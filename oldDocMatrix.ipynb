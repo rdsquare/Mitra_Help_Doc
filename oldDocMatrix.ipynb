{
 "cells": [
  {
   "cell_type": "markdown",
   "metadata": {},
   "source": [
    "# Exception classes for matrix operation(s)."
   ]
  },
  {
   "cell_type": "markdown",
   "metadata": {},
   "source": [
    "MatrixRowError class is used to halt program and show error when error is encountered in any row of Matrix class. This class ensures that Matrix class contains all the values of column(s) for every row(s)."
   ]
  },
  {
   "cell_type": "code",
   "execution_count": 3,
   "metadata": {},
   "outputs": [],
   "source": [
    "class MatrixRowError(IndexError):\n",
    "    'used for index error in row of matrix.'\n",
    "    pass"
   ]
  },
  {
   "cell_type": "markdown",
   "metadata": {},
   "source": [
    "MatrixColumnError class is used to halt program and show error when error is encountered in any column of Matrix class. This class ensures that Matrix class contains all the values of row(s) of every column(s)."
   ]
  },
  {
   "cell_type": "code",
   "execution_count": 4,
   "metadata": {},
   "outputs": [],
   "source": [
    "class MatrixColumnError(IndexError):\n",
    "    'used for index error in column of matrix.'\n",
    "    pass"
   ]
  },
  {
   "cell_type": "markdown",
   "metadata": {},
   "source": [
    "MatrixValueError class is used to halt program when entered value is not of type int,float or list. If value is assigning to any row of Matrix then it must be of list type and it must not contain any list or any variable(s) other than int & float. If value is assigning to particular column of particular row of Matrix then it must of int or float type only."
   ]
  },
  {
   "cell_type": "code",
   "execution_count": 5,
   "metadata": {},
   "outputs": [],
   "source": [
    "class MatrixValueError(ValueError):\n",
    "    'used for value error in matrix.'\n",
    "    pass"
   ]
  },
  {
   "cell_type": "markdown",
   "metadata": {},
   "source": [
    "MatrixIndexError class is used to halt program when index of Matrix goes out of range either less than 0 or greater than entered no. of column(s) or no. of row(s) of Matrix."
   ]
  },
  {
   "cell_type": "code",
   "execution_count": 6,
   "metadata": {},
   "outputs": [],
   "source": [
    "class MatrixIndexError(IndexError):\n",
    "    'used for index error while using [] for matrix.'\n",
    "    pass"
   ]
  },
  {
   "cell_type": "markdown",
   "metadata": {},
   "source": [
    "EmptyMatrixError class is used to halt program when user is performing any operation on Matrix that is empty (either it's no. of row(s) or no. of column(s) is set to 0)."
   ]
  },
  {
   "cell_type": "code",
   "execution_count": 7,
   "metadata": {},
   "outputs": [],
   "source": [
    "class EmptyMatrixError(Exception):\n",
    "    'used for empty matrix.'\n",
    "    pass"
   ]
  },
  {
   "cell_type": "markdown",
   "metadata": {},
   "source": [
    "MatrixMultiplicationError class is used to halt program when condition(s) of multiplication of matrix is not satisfied for e.g. no. of column(s) of first Matrix is not equal to the no. of row(s) of second Matrix."
   ]
  },
  {
   "cell_type": "code",
   "execution_count": 8,
   "metadata": {},
   "outputs": [],
   "source": [
    "class MatrixMultiplicationError(Exception):\n",
    "    'used to show error while multiplication of matrix.'\n",
    "    pass"
   ]
  },
  {
   "cell_type": "markdown",
   "metadata": {},
   "source": [
    "MatrixAdditionError class is used to halt program when user is performing addition of two Matrix and both are not of same dimension."
   ]
  },
  {
   "cell_type": "code",
   "execution_count": 9,
   "metadata": {},
   "outputs": [],
   "source": [
    "class MatrixAdditionError(Exception):\n",
    "    'used to show error while addition of matrix.'\n",
    "    pass"
   ]
  },
  {
   "cell_type": "markdown",
   "metadata": {},
   "source": [
    "MatrixsubtractionError class is used to halt program when user is performing subtraction of two Matrix and both are not of same dimension."
   ]
  },
  {
   "cell_type": "code",
   "execution_count": 10,
   "metadata": {},
   "outputs": [],
   "source": [
    "class MatrixSubtractionError(Exception):\n",
    "    'used to show error while subtraction of matrix.'\n",
    "    pass"
   ]
  },
  {
   "cell_type": "markdown",
   "metadata": {},
   "source": [
    "MatrixDimensionError class is used to halt program when user try to enter dimesion of square matrix to 0."
   ]
  },
  {
   "cell_type": "code",
   "execution_count": 11,
   "metadata": {},
   "outputs": [],
   "source": [
    "class MatrixDimensionError(IndexError):\n",
    "    'used to show error in dimension of Square matrix.'\n",
    "    pass"
   ]
  },
  {
   "cell_type": "markdown",
   "metadata": {},
   "source": [
    "NoMatrixFoundError class is used to halt program when Matrix is found empty while any matrix operation."
   ]
  },
  {
   "cell_type": "code",
   "execution_count": 12,
   "metadata": {},
   "outputs": [],
   "source": [
    "class NoMatrixFoundError(Exception):\n",
    "    'used to show error when matrix is empty while operation.'\n",
    "    pass"
   ]
  },
  {
   "cell_type": "markdown",
   "metadata": {},
   "source": [
    "MinorMatrixError class is used to halt program when some error(s) are encountere while calculating minor of any square matrix."
   ]
  },
  {
   "cell_type": "code",
   "execution_count": 13,
   "metadata": {},
   "outputs": [],
   "source": [
    "class MinorMatrixError(ValueError):\n",
    "    'used to show error encountered while calculating minor.'\n",
    "    pass"
   ]
  },
  {
   "cell_type": "markdown",
   "metadata": {},
   "source": [
    "SingularMatrixError class is used to halt program when singular matrix is encountered in any matrix operation which can not be performed on singular matrix. For e.g. inverse of square matrix, adjoint of square matrix etc."
   ]
  },
  {
   "cell_type": "code",
   "execution_count": 14,
   "metadata": {},
   "outputs": [],
   "source": [
    "class SingularMatrixError(ValueError):\n",
    "    'used to show error when singular matrix is encountered while any operation.'\n",
    "    pass"
   ]
  },
  {
   "cell_type": "markdown",
   "metadata": {},
   "source": [
    "MatrixPowerError class is used to halt program when power of Matrix is not of int type. (Matrix class only calculate power of square matrix if power is 'int' type else this class will failed to calculate the power of square matrix.)"
   ]
  },
  {
   "cell_type": "code",
   "execution_count": 15,
   "metadata": {},
   "outputs": [],
   "source": [
    "class MatrixPowerError(ValueError):\n",
    "    'used to show error when power is not integer while calculating power of matrix.'\n",
    "    pass"
   ]
  },
  {
   "cell_type": "markdown",
   "metadata": {},
   "source": [
    "NSquareMatrixError class is used to halt program when matrix is not square matrix (no. of row(s) and column(s) of matrix not equal) and square matrix operation is performed on Matrix by user."
   ]
  },
  {
   "cell_type": "code",
   "execution_count": 16,
   "metadata": {},
   "outputs": [],
   "source": [
    "class NoSquareMatrixError(Exception):\n",
    "    'used to show error when matrix is not square matrix.'\n",
    "    pass"
   ]
  },
  {
   "cell_type": "markdown",
   "metadata": {},
   "source": [
    "# Class: Matrix (represents matrix of mathematics)"
   ]
  },
  {
   "cell_type": "markdown",
   "metadata": {},
   "source": [
    "This class represents the matrix of Mathematics and gives all the basic functionality of the matrix. It stores the N X M matrix where N is no. of row(s) and M is no. of column(s) of matrix. It is only useful for the basic operation of matrix with real numbrs if matrix is containg equation, trignometric value, exponentional value or complex numbers then this class will fail to perform the basic operation of matrix. It takes no. of row(s) and no. of column(s) of matrix and then value(s) of matrix as input. Row(s) and column(s) are numbered from 0 to N-1 and M-1 if matrix is of N X M dimension. Performing any operation without setting dimension of matrix will cause error in program. User can also derive other class from this class to implement new functionality of Matrix.\n",
    "Member(s) of Matrix:\n",
    "\n",
    "Protected Member(variable):\n",
    "1. _row: it will store no. of row(s) of Matrix\n",
    "\n",
    "2. _col: it will store no. of column(s) of Matrix\n",
    "\n",
    "3. _list: it is a list of list to store row and column's value of matrix\n",
    "like: _list = [[1,2,3],[1,2,3]] #value is store in same manner"
   ]
  },
  {
   "cell_type": "code",
   "execution_count": 17,
   "metadata": {},
   "outputs": [],
   "source": [
    "class Matrix:\n",
    "    'This class is used for (n x m) matrix manipulation in math'\n",
    "    #all variables are protected to Matrix\n",
    "    def __init__(self): #constructor of class Matrix\n",
    "        self._row = 0 #records no. of the row(s) of the matrix\n",
    "        self._col = 0 #records no. of the column(s) of the matrix\n",
    "        self._list = [] #records values of the matrix\n",
    "    #end of __init__\n",
    "    \n",
    "    def insertValues(self):\n",
    "        'This function take value from user and set it into list in the matrix format'\n",
    "        print (\"Enter no. of row(s) of matrix: \")\n",
    "        self._row = int(input()) #only take input as integer\n",
    "        if self._row == 0: #if no of row(s) entered is zero\n",
    "            #raise MatrixRowError to halt the program as row can not be zero\n",
    "            raise MatrixRowError(\"no of row(s) of matrix can not be zero.\")\n",
    "        print (\"Enter no. of coloumn(s) of matrix: \")\n",
    "        self._col = int(input()) #only take input as integer\n",
    "        if self._col == 0: #if no of column(s) entered is zero\n",
    "            #raise MatrixColumnError to halt the program as column can not be zero\n",
    "            raise MatrixColumnError(\"no of column(s) of matrix can not be zero.\")\n",
    "        #now take input for given no. of row(s) and column(s)\n",
    "        print ('Enter value of matrix: \\n')\n",
    "        #using loop till all values of matrix are not entered!\n",
    "        for row in range(0, self._row):\n",
    "            print (\"\\tEnter value of Row-\",row+1, \" - (every column value must be separated by space e.g. 3 5 5): \")\n",
    "            value = input() #taking input of row\n",
    "            values = list(value.split(' ')) #splitting values for column(s)\n",
    "            while '' in values:\n",
    "                values.remove('')\n",
    "            if (len(values) != self._col): #if entered no of values is not equal to the no of column(s) of matrix\n",
    "                raise MatrixColumnError(\"no of values must equal to the no of column(s) of matrix.\")\n",
    "            rowValue = []\n",
    "            try: #generate exception if value is not able to converted into floating numbers\n",
    "                for temp in range(0, self._col): #assigning values to the rowValue list by conveting it into floating numbers\n",
    "                    rowValue.append(float(values[temp]))\n",
    "            except ValueError:\n",
    "                raise MatrixValueError(\"matrix only except decimal or real number(s).\")\n",
    "            self._list.append(rowValue) #append entire rowValue to the main list of the Matrix as one row\n",
    "    #end of insertValue().....\n",
    "    \n",
    "    def __getitem__(self, key):\n",
    "        'This is operator overloading of ([]) operator to access directly the value of Matrix object.'\n",
    "        #user have to call Matrix_Object[] to get item from Matrix\n",
    "        if (key < 0): #if index is less than 0\n",
    "            raise MatrixIndexError(\" matrix is out of bound.\") #raise IndexError to halt the program\n",
    "        if (self._row == 0): #checking row(s) of matrix. If no of row(s) of matrix is 0 then  raise and exception.\n",
    "            raise EmptyMatrixError(\"matrix row and column size is not defined.\") #raise EmptyMatrixError if matrix is empty\n",
    "        return self._list[key] #return the value at key\n",
    "    #end of __getitem().....\n",
    "    \n",
    "    def __setitem__(self, key , data):\n",
    "        'This is operator overloading of ([]) operator to change value of element(s) of the Matrix.'\n",
    "        '''It will only change the value element(s) of matrix. The entire row at the same time can\n",
    "        be changed if entered data is list and len of list is same as the no of column(s) of matrix to save the properties of the matrix or to minimize the error(s) in matrix.'''\n",
    "        if (key < 0): #if index is less than 0\n",
    "            raise MatrixIndexError(\"matrix is out of bound.\") #raise IndexError to halt the program\n",
    "        if (self._row == 0): #checking row(s) of matrix. If no of row(s) of matrix is 0 then  raise and exception.\n",
    "            raise EmptyMatrixError(\"matrix row and column size is not defined.\") #raise EmptyMatrixError if matrix is empty\n",
    "        if isinstance(self.__getitem__(key), list): #if user is trying to change entire row at same time\n",
    "            if isinstance(data, list): #checking if entered data is list or not\n",
    "                for z in range(0, len(data)): #visit every element(s) of data\n",
    "                    if not(isinstance(data[z], (int, float))): #if data of list is not decimal or real numbers\n",
    "                        #raise MatrixValueError to halt the program\n",
    "                        raise MatrixValueError(\"value of matrix is decimal or real number(s) only.\")\n",
    "                if (len(data) == self._col): #if entered data is list then check the len of list must be equal to the no of column(s) of matrix\n",
    "                    self._list[key] = data #if all is clear then assign value to the self._list or matrix\n",
    "                    return #return from function as value of row is set now\n",
    "                else: #raise MatrixColumnException to halt program as entered data length is not equal to no of column(s)\n",
    "                    raise MatrixColumnError(\"item(s) in input data is not equal to the no of column(s) of Matrix.\")\n",
    "            else: #if data is not a list\n",
    "                #raise an MatrixValueException to halt program as row(s) of matrix always a list type\n",
    "                raise MatrixValueError(\"row(s) of Matrix is always of list type.\")\n",
    "        #if user is trying to set value of a single element\n",
    "        if isinstance(data, (float, int)): #only change value if data is int or float type\n",
    "            self._list[key] = data #directly assign value to that column\n",
    "        else: #raise MatrixValueError to halt program\n",
    "            raise MatrixValueError(\"value of matrix is decimal or real number(s) only\")\n",
    "        \n",
    "    #end of __setitem__().....\n",
    "    \n",
    "    def setDimension(self, row, col):\n",
    "        'This function is to set dimension of n X m matrix by user. It will change matrix to zero matrix of row X col dimension.'\n",
    "        #it will set matrix to row X col and set all values to zero\n",
    "        self._row = row #setting no of row(s) of matrix\n",
    "        self._col = col #stting no of column(s) of matrix\n",
    "        #setting all values to the zero or creating zero matrix\n",
    "        self._list = [] #first setting list to empty\n",
    "        for i in range(0, self._row):\n",
    "            rowList = [] #temporary list to store values of row(s) of matrix\n",
    "            for j in range(0, self._col):\n",
    "                rowList.append(0) #assigning 0 to evry column of row(s)\n",
    "            self._list.append(rowList)\n",
    "    #end of setDimension().....\n",
    "    \n",
    "    def getDimension(self):\n",
    "        'This function is to get dimension of matrix. It will return list of dimenstion where first element is no of row(s) and other is no of columnn(s)'\n",
    "        dim = [] #temporary list of dimension of matrix\n",
    "        dim.append(self._row) #appending no of row(s) to list\n",
    "        dim.append(self._col) #append no of column(s) to list\n",
    "        return dim #returns dimension of Matrix\n",
    "    #end of getDimension().....\n",
    "    \n",
    "    def display(self):\n",
    "        'This function show all the value of the list in matrix format.'\n",
    "        if (len(self._list) == 0): #if list is empty then show a message and return\n",
    "            print(\"\\n\\tMatrix is empty now...\\n\")\n",
    "            return #return from fuction as list is empty\n",
    "        print (\"\\nMatrix contents: \\n\")\n",
    "        for row in self._list: #selecting a row from list\n",
    "            print(\"\\t\", end='')\n",
    "            for col in row: #selecting a column from row\n",
    "                print(\"%.2f\" % col, \"  \",end='  ') #display all the value of same in one line\n",
    "            print ('')\n",
    "    #end of display().....\n",
    "    \n",
    "    def __mul__(self, other):\n",
    "        'This fuction is for multiplication of two matrices.Only multiply Matrix object with Matrix, float, int or long object. It returns object of Matrix which is resultant of multiplication of two matrices.'\n",
    "        '''This is a operator overloading for multiplication of matrices like\n",
    "        a = Matrix()\n",
    "        c = a * other_matrix \n",
    "        It is also used when matrix is multiplied by constant no (a * constant_number).\n",
    "        It will return object of Matrix which is resultant of two matrices or matrix mulplied with constant'''\n",
    "        tempList = [] #temporary list to be return as resultant of multiplication of two matrices\n",
    "        if isinstance(other, (int, float)): #if Matrix is multiplied by any decimal constant number\n",
    "            for row in range(0, self._row):\n",
    "                rowList = [] #temporary list to store value of a single row\n",
    "                for col in range(0, self._col):\n",
    "                    rowList.append(self._list[row][col] * other) #every element of the matrix is multiplied with constant number and appended to the row\n",
    "                tempList.append(rowList)\n",
    "        elif isinstance(other, Matrix): #if Matrix is multiplied by other Matrix\n",
    "            if (self._col != other._row): \n",
    "                #raise exception to halt the program if condition of mathematical rule of matrix multiplication is not satisfied\n",
    "                raise MatrixMultiplicationError(\"no of column of first matrix must equal to the no of row of the second matrix error\")\n",
    "            #no of row(s) of the resultant is equals to the row(s) of the self Matrix - as per methematics rule of matrix multiplication\n",
    "            for row in range(0, self._row):\n",
    "                rowList = [] #temporary list to store value of a single row\n",
    "                #no of column(s) of the resultant is equals to the column(s) of the other Matrix - as per mathematics rule of matrix multiplication\n",
    "                for col in range(0, other._col):\n",
    "                    rowList.append(0) #appending 0 to the list to remove garbage value and perform error-free addition\n",
    "                    temp = 0.0\n",
    "                    for inc in range(0, self._col): #increment column of self and row of other till no of the column of self\n",
    "                        rowList[col] += self._list[row][inc] * other._list[inc][col] #multiplying the elements of the both matrices\n",
    "                tempList.append(rowList)\n",
    "            #multiplication of two matrices is completed!\n",
    "        else:\n",
    "            raise MatrixValueError('you can\\'t multiply Matrix with ',other) #raise exception to halt program if Matrix is multiplied by other than constant decimal number or Matrix object\n",
    "        \n",
    "        tempMat = Matrix()\n",
    "        tempMat._list = tempList\n",
    "        tempMat._row = len(tempList)\n",
    "        if (len(tempList) > 0):\n",
    "            tempMat._col = len(tempList[0])\n",
    "        else:\n",
    "            tempMat._col = 0\n",
    "        return tempMat\n",
    "    #end of __mul__ operator overloading.....\n",
    "    \n",
    "    def __rmul__(self, other):\n",
    "        'This fuction is for multiplication of two matrices.Only multiply Matrix object with Matrix, float, int or long object. It returns object of Matrix which is resultant of multiplication of two matrices.'\n",
    "        '''This is a operator overloading for multiplication of matrices like\n",
    "        a = Matrix()\n",
    "        c = a * other_matrix \n",
    "        It is also used when matrix is multiplied by constant no in reversed type (constant_number * a).\n",
    "        It will return object of Matrix which is resultant of two matrices or matrix mulplied with constant'''\n",
    "        tempList = [] #temporary list to be return as resultant of multiplication of two matrices\n",
    "        if isinstance(other, (int, float)): #if Matrix is multiplied by any decimal constant number\n",
    "            for row in range(0, self._row):\n",
    "                rowList = [] #temporary list to store value of a single row\n",
    "                for col in range(0, self._col):\n",
    "                    rowList.append(self._list[row][col] * other) #every element of the matrix is multiplied with constant number and appended to the row\n",
    "                tempList.append(rowList)\n",
    "        elif isinstance(other, Matrix): #if Matrix is multiplied by other Matrix\n",
    "            if (self._col != other._row): \n",
    "                #raise exception to halt the program if condition of mathematical rule of matrix multiplication is not satisfied\n",
    "                raise MatrixMultiplicationError(\"MatrixMultiplicationError: no of column of first matrix must equal to the no of row of the second matrix error\")\n",
    "            #no of row(s) of the resultant is equals to the row(s) of the self Matrix - as per methematics rule of matrix multiplication\n",
    "            for row in range(0, self._row):\n",
    "                rowList = [] #temporary list to store value of a single row\n",
    "                #no of column(s) of the resultant is equals to the column(s) of the other Matrix - as per mathematics rule of matrix multiplication\n",
    "                for col in range(0, other._col):\n",
    "                    rowList.append(0) #appending 0 to the list to remove garbage value and perform error-free addition\n",
    "                    temp = 0.0\n",
    "                    for inc in range(0, self._col): #increment column of self and row of other till no of the column of self\n",
    "                        rowList[col] += self._list[row][inc] * other._list[inc][col] #multiplying the elements of the both matrices\n",
    "                tempList.append(rowList)\n",
    "            #multiplication of two matrices is completed!\n",
    "        else:\n",
    "            raise MatrixValueError('You can\\'t multiply Matrix with ',other) #raise exception to halt program if Matrix is multiplied by other than constant decimal number or Matrix object\n",
    "        \n",
    "        tempMat = Matrix() #creating object of matrix\n",
    "        tempMat._list = tempList #updating value of matrix\n",
    "        tempMat._row = len(tempList) #setting row of matrix\n",
    "        if (len(tempList) > 0): #setting column of matrix \n",
    "            tempMat._col = len(tempList[0])\n",
    "        else:\n",
    "            tempMat._col = 0\n",
    "        return tempMat\n",
    "    #end of __rmul__ operator overloaing.....\n",
    "    \n",
    "    def transpose(self):\n",
    "        'This function is for calculating the transpose of n X m matrix.'\n",
    "        #it will use simple swapping of row(s) and column(s) of matrix to find transpose of n X m matrix\n",
    "        trans = Matrix() #temporary transpose matrix of matrix self._list\n",
    "        for col in range(0, self._col): #self._list will travel through column first\n",
    "            rowList = [] #temporary list to store row(s) of transpose matrix\n",
    "            for row in range(0, self._row):\n",
    "                #rowList will store values of column of self._list in row(s) of trans matrix\n",
    "                rowList.append(self._list[row][col]) #swapping column(s) with row(s) or vice verca and appending to rowList\n",
    "            trans._list.append(rowList) #appending value to the list of trans matrix\n",
    "        trans._row = self._col #as row(s) are swapped with column(s)\n",
    "        trans._col = self._row #as column(s) are swapped with row(s)\n",
    "        return trans #return transpose matrix (m X n) of matrix self._list (n X m)\n",
    "    #end of transpose().....\n",
    "    \n",
    "    def __add__(self, other):\n",
    "        'This is operator overloading of binary plus (+) oprator. It will be used to add two matrices.'\n",
    "        #It will be used either to add matrix with matrix or matrix and scalar value\n",
    "        #only scalar can add to the matrix but matrix is never be added to the scalar - as per mathematics rule of matrix scalar addition\n",
    "        #check other if it is Matrix or scalar value\n",
    "        tempList = [] #temporary list of the values of resultant of matrix addition\n",
    "        if isinstance(other, (int, float)):\n",
    "            for row in range(0, self._row):\n",
    "                rowList = [] #temporary list contains value(s) of row(s) of matrix after addition\n",
    "                for col in range(0, self._col):\n",
    "                    rowList.append(self._list[row][col] + other) #performimng matrix and scalar value addition\n",
    "                tempList.append(rowList)\n",
    "        elif isinstance(other, Matrix):\n",
    "            if ((self._row != other._row) or (self._col != other._col)):\n",
    "                raise MatrixAdditionError(\"added matrix should be of same dimension.\")\n",
    "            for row in range(0, self._row):\n",
    "                rowList = [] #temporary list contains value(s) of row(s) of matrix after addition\n",
    "                for col in range(0, self._col):\n",
    "                    rowList.append(self._list[row][col] + other._list[row][col]) #performing addition of two matrices\n",
    "                tempList.append(rowList)\n",
    "        else:\n",
    "            raise MatrixValueError('you can\\'t add Matrix with ',other) #raise exception to halt program if object other than constant decimal number or Matrix s added to matrix\n",
    "        \n",
    "        tempMat = Matrix() #creating object of matrix\n",
    "        tempMat._list = tempList #updating value of matrix\n",
    "        tempMat._row = len(tempList) #setting no of row of matrix\n",
    "        if (len(tempList) > 0): #setting no of column of matrix\n",
    "            tempMat._col = len(tempList[0])\n",
    "        else:\n",
    "            tempMat._col = 0\n",
    "        return tempMat #return resultant matrix\n",
    "    #end of __add__().....\n",
    "    \n",
    "    def __radd__(self, other):\n",
    "        'This is operator overloading to prevent user to add matrix to the scalar.'\n",
    "        #only scalar can be added to the matrix. Matrix never be added to scalar - as per mathematics rule of matrix scalar addition\n",
    "        raise MatrixAdditionError(\"matrix can not be added to the scalar.\") #raise MatrixScalarAdditionException to halt program\n",
    "    #end of __radd__().....\n",
    "    \n",
    "    def __sub__(self, other):\n",
    "        'This is operator overloading of binary minus (-) oprator. It will be used to subtract two matrices.'\n",
    "        #It will be used either to subtract matrix from matrix or scalar value from matrix\n",
    "        #only scalar can be subtracted from matrix but matrix is never be subtracted from scalar - as per mathematics rule of matrix scalar subtraction\n",
    "        #check other if it is Matrix or scalar value\n",
    "        tempList = [] #temporary list of the values of resultant of matrix subtraction\n",
    "        if isinstance(other, (int, float)):\n",
    "            for row in range(0, self._row):\n",
    "                rowList = [] #temporary list contains value(s) of row(s) of matrix after subtraction\n",
    "                for col in range(0, self._col):\n",
    "                    rowList.append(self._list[row][col] - other) #performimng matrix and scalar value subtraction\n",
    "                tempList.append(rowList)\n",
    "        elif isinstance(other, Matrix):\n",
    "            if ((self._row != other._row) or (self._col != other._col)):\n",
    "                raise MatrixSubtractionError(\"matrix should be of same dimension for subtraction.\")\n",
    "            for row in range(0, self._row):\n",
    "                rowList = [] #temporary list contains value(s) of row(s) of matrix after subtraction\n",
    "                for col in range(0, self._col):\n",
    "                    rowList.append(self._list[row][col] - other._list[row][col]) #performing subtraction of two matrices\n",
    "                tempList.append(rowList)\n",
    "        else:\n",
    "            raise MatrixValueError('you can\\'t subtract ',other,' from matrix.') #raise exception to halt program if object other than constant decimal number or Matrix s added to matrix\n",
    "        \n",
    "        tempMat = Matrix() #creating object of matrix\n",
    "        tempMat._list = tempList #updating value of matrix\n",
    "        tempMat._row = len(tempList) #setting no of row of matrix\n",
    "        if (len(tempList) > 0): #setting no of column of matrix\n",
    "            tempMat._col = len(tempList[0])\n",
    "        else:\n",
    "            tempMat._col = 0\n",
    "        return tempMat #return resultant matrix\n",
    "    #end of __sub__().....\n",
    "    \n",
    "    def __rsub__(self, other):\n",
    "        'This is operator overloading to prevent user to subtract matrix from scalar value.'\n",
    "        #only scalar can be subtracted from matrix. Matrix never be subtracted from scalar - as per mathematics rule of matrix scalar subtraction\n",
    "        raise MatrixSubtractionError(\"matrix can not be subtracted from scalar.\") #raise MatrixScalarAdditionException to halt program\n",
    "    #end of __rsub__().....\n",
    "    \n",
    "    def __eq__(self,other):\n",
    "        'This is operator overloading of equality comparision (==) operator to check if two matrices are equal or not.'\n",
    "        #it will return True if two matrices are equal and false if not equal and also return false if matrix is compared with any other type\n",
    "        if isinstance(other, Matrix): #checking if matrix is compared with matrix or not. If yes then do condition\n",
    "            if ((self._row != other._row) or (self._col != other._row)): #checking if matrices are of same dimenstion\n",
    "                return False #return false if matrices are of different dimension\n",
    "            #if dimension are equal then check for each value at the same row and column must be equal\n",
    "            for row in range(0, self._row):\n",
    "                for col in range(0, self._col):\n",
    "                    if self._list[row][col] != other._list[row][col]: #checking if value at same row and column is equal or not\n",
    "                        return False #if value at same row and column is not equal then return false\n",
    "            return True #return True if value at same row and column equal\n",
    "        else: #matrix is not compared with matrix then return false\n",
    "            return False #matrix is never equals to other data type\n",
    "    #end __eq__().....\n",
    "    \n",
    "    def __ne__(self,other):\n",
    "        'This is operator overloading of inequality comparision (!=) operator to check if two matrices are equal or not.'\n",
    "        #it will return False if two matrices are equal and True if not equal and return true if matrix is compared with other data type\n",
    "        if isinstance(other , Matrix): #checking if matrix is compared with matrix or not. If yes then do condition\n",
    "            if ((self._row != other._row) or (self._col != other._row)): #checking if matrices are of same dimenstion\n",
    "                return True #return true if matrices are of different dimension\n",
    "            #if dimension are equal then check for each value at the same row and column must be equal\n",
    "            for row in range(0, self._row):\n",
    "                for col in range(0, self._col):\n",
    "                    if self._list[row][col] != other._list[row][col]: #checking if value at same row and column is equal or not\n",
    "                        return True #if value at same row and column is not equal then return True\n",
    "            return False #return False if value at same row and column equal\n",
    "        else: #if matrix is not compared with matrix then return True\n",
    "            return True #matrix is always not equal to other data type\n",
    "    #end __eq__().....\n",
    "    \n",
    "    def isEmpty(self):\n",
    "        'This function will check if matrix is empty or not. If it is empty it will return True else return False.'\n",
    "        #This function is not related to linear algebra or any mathematical function. It is only check if self._list is empty or not\n",
    "        if self._row == 0:\n",
    "            return True #return True if row is 0\n",
    "        else:\n",
    "            return False #return false if _list contains row(s)\n",
    "    #end of isEmpty()......\n",
    "    \n",
    "    def isZeroMatrix(self):\n",
    "        'This function is to check if matrix is zero matrix or null matrix. It will return True if matrix is zero matrix else returns false'\n",
    "        '''A matrix is called zero or null matrix if it contains all zero(s) as value.'''\n",
    "        if not(self.isEmpty()): #check if matrix is not empty\n",
    "            for row in range(0, self._row): #travel to every row\n",
    "                for col in range(0, self._col): #travel to every column\n",
    "                    if (self._list[row][col] != 0): #check for each and every element(s) in matrix\n",
    "                        return False #return false if any of element is not equal to zero\n",
    "            return True #return true if all element(s) are equal to zero!\n",
    "        else:\n",
    "            return False #return false if matrix is empty\n",
    "    #end of isZeroMatrix().....\n",
    "    \n",
    "    def __getIdentityMat(self, row, col):\n",
    "        'This is private function used by system to get identity matrix of any dimension.It is only for Matrix not for Square Matrix'\n",
    "        #as system sometime needs this to check for conditions or any other means. It will return an identity matrix of row X col dimension\n",
    "        idMat = Matrix() #temporary matrix which will holds identity matrix\n",
    "        for i in range(0, row):\n",
    "            rowList = [] #temporary list which will store values of row(s) of identity matrix\n",
    "            for j in range(0, col):\n",
    "                if i == j: #ckecking for diagonal element\n",
    "                    rowList.append(1) #if it is diagonal element of matrix then assign 1 to it\n",
    "                else:\n",
    "                    rowList.append(0) #element(s) other than diagonal is assigned 0 - as per identity matrix rule of mathematics\n",
    "            idMat._list.append(rowList)\n",
    "        idMat._row = row #setting up no of row(s) of matrix\n",
    "        idMat._col = col #setting up no of column(s) of matrix\n",
    "        return idMat #returns identity matrix of row X col dimension\n",
    "    #end of __getIdentityMat().....\n",
    "    \n",
    "    def __changeMat(self, li, row, col):\n",
    "        'This is private function to select desired row(s) and column(s) of Square Matrix for determinant.'\n",
    "        '''This function is private so it is not used by user directly. It gives additional fuctionality and simplicity\n",
    "        in finding determinate of Square Matrix easily. It splits matrix whenever necessary.\n",
    "        '''\n",
    "        tempList = [] #temporary list to store sliced matrix\n",
    "        for i in range(0, len(li)):\n",
    "            rowList = [] #temporary list to store values of row(s) of Square Matrix\n",
    "            if i == row: #don't include row - as per rule of mathematics of calculating determinant\n",
    "                continue #continue to loop for next row\n",
    "            else:\n",
    "                for j in range(0, len(li)):\n",
    "                    if j == col: #don't include column - as per rule of mathematcs of calculating determinant\n",
    "                        continue #conitnue to loop for next column\n",
    "                    else:\n",
    "                        rowList.append(li[i][j]) #update row values in rowList\n",
    "                tempList.append(rowList) #append all row(s) to tempList\n",
    "        return tempList #return sliced Square Matrix\n",
    "    #end of __changeMat().....\n",
    "    \n",
    "    def __determinant(self, li):\n",
    "        'This function will give determinant (|li| or det(li)) of Square Matrix'\n",
    "        '''This is private functio used by determinant() to determine determinante of random any Square Matrix.\n",
    "        This function is used for determining determinant (|li|) of Square Matrix (li).\n",
    "        It is suitable for n X n matrix where n != 0. It raise exception when user tries to find determinant of null \n",
    "        matrix. It will return det(A).'''\n",
    "        value = 0\n",
    "        if (len(li) == 0): #if matrix is null matrix\n",
    "            #raise a NullMatrixException error for more convinience\n",
    "            raise NoMatrixFoundError(\" matrix doesn't exist.\")\n",
    "        elif (len(li) == 1): #if matrix is 1 X 1 matrix\n",
    "            value = li[0][0] #returns the only member of matrix\n",
    "            return value\n",
    "        elif (len(li) == 2): #if matrix is 2 X 2 matrix \n",
    "            #returns A11*A22 - A12*A21 - as per mathematics rule\n",
    "            value = (li[0][0] * li[1][1]) - (li[0][1] * li[1][0])\n",
    "            return value\n",
    "        else: #if matrix is n X n where n > 2 (like 3D, 4D or more)\n",
    "            #using mathematics formula of calculating determinant of n X n matrix by row 1\n",
    "            for col in range(0, len(li)): #visiting every column value of Row 0 (physically row 1) and then slicing the matrix and calculating the determinant of sliced matrix in recurssive call\n",
    "                value += ((-1)**col) * (li[0][col]) * self.__determinant(self.__changeMat(li, 0, col))\n",
    "            return value #returns the determinant of the Square Matrix\n",
    "    #end of determinant().....\n",
    "    \n",
    "    \n",
    "    def __stranspose(self, matrix):\n",
    "        'This private function is for calculating the transpose of m X m matrix. It is only used by system not by user directly'\n",
    "        #it will use simple swapping of row(s) and column(s) of matrix to find transpose of n X m matrix\n",
    "        #it will take matrix as in argument\n",
    "        trans = SquareMatrix() #temporary transpose matrix of matrix self._list\n",
    "        for col in range(0, matrix._col): #self._list will travel through column first\n",
    "            rowList = [] #temporary list to store row(s) of transpose matrix\n",
    "            for row in range(0, matrix._row):\n",
    "                #rowList will store values of column of self._list in row(s) of trans matrix\n",
    "                rowList.append(matrix._list[row][col]) #swapping column(s) with row(s) or vice verca and appending to rowList\n",
    "            trans._list.append(rowList) #appending value to the list of trans matrix\n",
    "        trans._row = matrix._col #as row(s) are swapped with column(s)\n",
    "        trans._col = matrix._row #as column(s) are swapped with row(s)\n",
    "        return trans #return transpose matrix (m X m) of matrix self._list (m X m)\n",
    "    #end of __stranspose().....\n",
    "    \n",
    "    def determinant(self):\n",
    "        'This function will give determinant (|A| or det(A)) of Square Matrix'\n",
    "        '''This function is used for determining determinant (|A|) of Square Matrix (A).\n",
    "        It is suitable for n X n matrix where n != 0. It raise exception when user tries to find determinant of null \n",
    "        matrix. It will return det(A). It wil raise error if matrix is not Square Matrix.'''\n",
    "        if self._row != self._col: #checking if matrix is square matrix or not\n",
    "            raise NoSquareMatrixError(\"matrix is not square matrix\")\n",
    "        value = 0\n",
    "        if (self._row == 0): #if matrix is null matrix\n",
    "            #raise a NullMatrixException error for more convinience\n",
    "            raise NoMatrixFoundError(\"matrix doesn't exist.\")\n",
    "        elif (self._row == 1): #if matrix is 1 X 1 matrix\n",
    "            return self.list[0][0] #returns the only member of matrix\n",
    "        elif (self._row == 2): #if matrix is 2 X 2 matrix \n",
    "            #returns A11*A22 - A12*A21 - as per mathematics rule\n",
    "            value = (self._list[0][0] * self._list[1][1]) - (self._list[0][1] * self._list[1][0])\n",
    "            return value\n",
    "        else: #if matrix is n X n where n > 2 (like 3D, 4D or more)\n",
    "            #using mathematics formula of calculating determinant of n X n matrix by row 1\n",
    "            for col in range(0, self._row): #visiting every column value of Row 0 (physically row 1) and then slicing the matrix and calculating the determinant of sliced matrix in recurssive call\n",
    "                value += ((-1)**col) * (self._list[0][col]) * self.__determinant(self.__changeMat(self._list, 0, col))\n",
    "            return value #returns the determinant of the Square Matrix\n",
    "        #end of determinant().....\n",
    "        \n",
    "    def minor(self):\n",
    "        'This fuction is for calculating minor matrix of Square Matrix. It will raise error if matrix is not square matrix.'\n",
    "        #It will create a square matrix which minor matrix of Square Matrix (self._list). Mostly it will used by system for calculating cofactor of Square Matrix\n",
    "        if self._row != self._col: #checking if matrix is square matrix or not\n",
    "            raise NoSquareMatrixError(\"matrix is not square matrix\")\n",
    "        #minor of 1 X 1 and 0 X 0 matrix doesn't exist!\n",
    "        if (self._row <= 1): #checking for null matrix or 1D Square matrix\n",
    "            #raise MatrixMinorException error if 1D or null Square Matrix encountered!\n",
    "            raise MatrixMinorError(\" minor of null matrix and 1D Square Matrix doesn't exist.\") \n",
    "        minorList = [] #temporary matrix of minor of Square Matrix\n",
    "        for row in range (0, self._row): #visiting every row for minor\n",
    "            rowList = [] #temporary list for holding minor values of row of Square Matrix\n",
    "            for col in range (0, self._col): #visiting every column for minor\n",
    "                #now, sliced Square Matrix according to row and column and find determinant of sliced matrix to find minor for that row and column\n",
    "                rowList.append(self.__determinant(self.__changeMat(self._list, row, col))) #appending value to rowList\n",
    "            minorList.append(rowList) \n",
    "        minorMat = Matrix() #creating a object of Square Matrix\n",
    "        minorMat._list = minorList #assigning value to the matrix\n",
    "        minorMat._row = minorMat._col = len(minorList) #setting no of row(s) and column(s) of Square Matrix\n",
    "        return minorMat #returns Square Matrix of minor value of self._list Square Matrix\n",
    "    #end of minor().....\n",
    "    \n",
    "    def cofactor(self):\n",
    "        'This function is for calculating cofactor of Square Matrix. It will raise error if matrix is not square matrix.'\n",
    "        #It will use minor() to calculate cofactor of Suqare Matrix (self._list). And will return Square Matrix of cofactor of self._list\n",
    "        if self._row != self._col: #checking if matrix is square matrix or not\n",
    "            raise NoSquareMatrixError(\"matrix is not square matrix\")\n",
    "        factorList = [] #temporary cofactor list of self._list\n",
    "        minor = self.minor() #calculating minor of Square Matrix\n",
    "        for row in range(0, self._row):\n",
    "            rowList = [] #row list of values of cofactor\n",
    "            for  col in range(0, self._row):\n",
    "                #calculating cofactor using (-1)^row+col * minor of [row][col] - using rule of calculation of cofactor of Square Matrix\n",
    "                rowList.append(((-1)**(row + col)) * minor._list[row][col])\n",
    "            factorList.append(rowList)\n",
    "        factorMat = SquareMatrix() #creating object of Square Matrix for matrix of cofactor of Square Matrix self._list\n",
    "        factorMat._list = factorList #assgining value to factorMat\n",
    "        factorMat._row = factorMat._col = len(factorList) #setting dimenstion of the cofactor matrix\n",
    "        return factorMat #returns Square Matrix of cofactor of Square Matrix self._list\n",
    "    #end of cofactor.....\n",
    "    \n",
    "    def adjoint(self):\n",
    "        'This function will calculate adjoint matrix of any Square Matrix. It will return a adjoint SquareMatrix.'\n",
    "        '''Adjoint of any Square Matrix A is trans(cofactor(A)) - as from the formula of calculating adjoint of Square matrix\n",
    "        in mathematics. It will use pre-defined function cofactor and trans for calculating adjoint of matrix.'''\n",
    "        if self._row != self._col: #checking if matrix is square matrix or not\n",
    "            raise NoSquareMatrixError(\"matrix is not square matrix\")\n",
    "        adjoin = SquareMatrix() #temporary Square matrix for adjoint matrix of self._list\n",
    "        adjoin = self.__stranspose(self.cofactor()) #calculating adjoint matrix using mathematical formula trans(cofactor(matrix))\n",
    "        return adjoin #returns adjoint matrix of matrix self._list\n",
    "    #end of adjoint().....\n",
    "    \n",
    "    def inverse(self):\n",
    "        'This function will calculate inverse matrix of any Square Matrix. It well return a inverse Square Matrix.'\n",
    "        '''Inverse matrix of any Square Matrix A is calculated using mathematical formula (1/det(A)) * adj(A).\n",
    "        It will use pre-defined function determinant and adjoint to calculate inverse matrix of Square Matrix.\n",
    "        But if matrix is singular matrix than it's inverse will not exist. '''\n",
    "        if self._row != self._col: #checking if matrix is square matrix or not\n",
    "            raise NoSquareMatrixError(\"matrix is not square matrix\")\n",
    "        if self.isSingular():\n",
    "            raise SingularMatrixError(\"singular matrix encountered while calculating inverse of Square Matrix.\")\n",
    "        inverseMat = SquareMatrix() #temporary Square Matrix for inverse square matrix of self._list\n",
    "        inverseMat = (1/self.determinant()) * self.adjoint() #calculating inverse matrix using mathematical formula 1/det(matrix) * adj(matrix)\n",
    "        return inverseMat #returns inverse matrix of matrix self._list\n",
    "    #end of inverse().....\n",
    "    \n",
    "    def isOrthogonalMatrix(self):\n",
    "        'This function is to check if matrix is orthogonal matrix or not. It will return true if matrix is orthogonal matrix else return false.'\n",
    "        '''This functioin will use AA^T == I mathematical formula to check whether the matrix is orthogonal or not.\n",
    "        It will use pre-defined function transpose and __getIdentityMat for checking of orthogonal matrix.'''\n",
    "        if self._row != self._col: #checking if matrix is square matrix or not\n",
    "            raise NoSquareMatrixError(\"matrix is not square matrix\")\n",
    "        if not(self.isEmpty()): #checking if matrix empty or not. If not empty then check for orthogonal matrix condition\n",
    "            if ((self * self.transpose()) == self.__getIdentityMat(self._row, self._col)): #checking for orthogonal matrix condition\n",
    "                return True #return True if matrix is orthogonal matrix\n",
    "            else:\n",
    "                return False #return False if matrix is not orthogonal matrix\n",
    "        else:\n",
    "            return False #return False if matrix is empty as empty matrix can not be orthogonal matrix \n",
    "    #end of isOrthogonalMatrix().....\n",
    "    \n",
    "    def isUTMatrix(self):\n",
    "        'This function verify if matrix is upper triangular matrix or not. If matrix is upper triangular matrix, it will return True else returns false.'\n",
    "        '''It used the mathematical definition of upper triangular that if value(s) below diagonal of SquareMatrix is 0 than it is called\n",
    "        upper triangular matrix.\n",
    "        So, it will start from visiting first row and visit every column from element below the diagonal to the end of column'''\n",
    "        if self._row != self._col: #checking if matrix is square matrix or not\n",
    "            raise NoSquareMatrixError(\"matrix is not square matrix\")\n",
    "        for col in range(0, self._col): #first start column wise (logically)\n",
    "            for row in range(col+1, self._row): #then visit row(s) from below the diagonal till the end of column (logically - end of column is no of row(s))\n",
    "                if self._list[row][col] != 0: #if any one element(s) below diagonal is not 0\n",
    "                    return False #matrix is not upper triangular matrix, returns false\n",
    "        #every element(s) below the diagonal of matrix is 0\n",
    "        return True #return True as matrix is upper triangular matrix\n",
    "    #end of isUTMatrix().....\n",
    "    \n",
    "    def isLTMatrix(self):\n",
    "        'This function verify if matrix is lower triangular matrix or not. If matrix is lower triangular matrix, it will return True else returns False.'\n",
    "        '''It used the mathematical definition of lower triangular that if value(s) above diagonal of SquaeMatrix is 0 than it is called lower\n",
    "        triangular matrix.\n",
    "        So, it will start from visiting first row from second element and visit every column from 0th element to last element above the diagonal of matrix.'''\n",
    "        if self._row != self._col: #checking if matrix is square matrix or not\n",
    "            raise NoSquareMatrixError(\"matrix is not square matrix\")\n",
    "        for col in range(1, self._col): #first start column wise from element 1 (logically) physically from element 2.\n",
    "            for row in range(0, col): #then visit column from 0th row to the last row above the diagonal of matrix\n",
    "                if self._list[row][col] != 0: #if any one element(s) above diagonal is not 0\n",
    "                    return False #matrix is not lower triangular matrix, return false\n",
    "        #every element(s) above the diagonal of matrix is 0\n",
    "        return True #return True as matrix is lower triangular matrix\n",
    "    #end of isLTMatrix().....\n",
    "    \n",
    "    def isTMatrix(self):\n",
    "        'This function verify if matrix is triangular matrix or not. If it is triangular matrix then it will return true else retrun false.'\n",
    "        '''If matrix is lower triangular or upper triangular or both then this function will return true else false as per \n",
    "        mathematics rule of triangular matrix. It will use pre-defined function isLTMatrix() and isUTMatrix().'''\n",
    "        if self._row != self._col: #checking if matrix is square matrix or not\n",
    "            raise NoSquareMatrixError(\"matrix is not square matrix\")\n",
    "        if (self.isLTMatrix() or self.isUTMatrix()): #if matrix is upper triangular or lower triangular matrix or both\n",
    "            return True #return true as matrix is triangular\n",
    "        #otherwise , matrix is not triangular matrix\n",
    "        return False\n",
    "    #end of isTMatrix().....\n",
    "    \n",
    "    def trace(self):\n",
    "        'This is function to calculate the trace of Square Matrix. It will return a value or trace of Square Matrix.'\n",
    "        '''Trace is summation of all diagonal element(s) of matrix - as per mathematical rule of trace of Square Matrix.'''\n",
    "        if self._row != self._col: #checking if matrix is square matrix or not\n",
    "            raise NoSquareMatrixError(\"matrix is not square matrix\")\n",
    "        trace = 0 #trace is 0 at initially\n",
    "        for dig in range(0, self._row): #visiting every diagonal element(s) of Square Matrix\n",
    "            trace += self._list[dig][dig] #adding every diagonal element's value to trace variable\n",
    "        return trace #returns trace of Square Matrix\n",
    "    #end of trace().....\n",
    "    \n",
    "    def isSingular(self):\n",
    "        'This function verif if matrix is singular matrix or not. If it is singular matrix then it will return true else it will return false.'\n",
    "        '''If determinant of Square Matrix is 0 then it is singular matrix - as per mathematics rule of singular matrix.'''\n",
    "        if self._row != self._col: #checking if matrix is square matrix or not\n",
    "            raise NoSquareMatrixError(\"matrix is not square matrix\")\n",
    "        if (self.determinant() == 0): #if determinant of matrix is 0\n",
    "            return True #return true as matrix is singular matrix\n",
    "        #otherwise, matrix is not singular\n",
    "        return False\n",
    "    #end of isSingular().....\n",
    "    \n",
    "    def __pow__(self, power):\n",
    "        'This is operator overloading of power (**) operator. This will calculate the power of matrix where power is only integer type and return the resultant square matrix.'\n",
    "        '''It will use mathematical concept of power of square matrix if power is positive it will return the resultant matrix of power of self._list \n",
    "        and if power is negative integer it will return the resultant matrix of power of inverse of self._list - as per rule of mathematics.'''\n",
    "        if self._row != self._col: #checking if matrix is square matrix or not\n",
    "            raise NoSquareMatrixError(\"matrix is not square matrix\")\n",
    "        #check if power is of int type or not\n",
    "        if not(isinstance(power, int)):\n",
    "            #if power is not int type than raise MatrixPowerError to halt the program\n",
    "            raise MatrixPowerError(\"power of matrix must be of type int only.\")\n",
    "        #otherwise, continue program to find resultant of matrix power\n",
    "        #check whether the power is negative int or positive int\n",
    "        tMat = self #temporary matrix to perform calculation easily on negative and positive power(s)\n",
    "        if power < 0: #if power is negative\n",
    "            tMat = self.inverse() #take tempList as inverse of self._list\n",
    "            power = 0 - power #getting absolute value of power\n",
    "        plist = [] #list of power(s) to be calculated later in terms of 2 and 1\n",
    "        #this is use concept of binary digits to find large power of square matrix\n",
    "        if power == 0: #if power of matrix is zero then as per rule of mathematics that 0 power of Square Marix is identity matrix of that size\n",
    "            return self.__getIdentityMat(tMat._row, tMat._col) #returns identity matrix of row X row size\n",
    "        if power == 1: #if power of matrix is 1 then returns itself\n",
    "            return tMat #returns itself\n",
    "        if power == 2: #if power of matrix is 2 then returns matrix multiplied by matrix\n",
    "            return tMat * tMat #return resultant of square of matrix\n",
    "        '''like A^2 = A.A, A^4 = A^2. A^2 and so on....\n",
    "        we can write A^97 as A^64.A^32.A^1 and\n",
    "        then (((((A^2)^2)^2)^2)^2)^2 . ((((A^2)^2)^2)^2)^2 . A^1 so this 2 and 1 are appended in list and then \n",
    "        matrix get multiplied so it doesn't have to multiply 97 time it is just multiplied 11 times to \n",
    "        increase performance of calculating resultant of power of matrix.'''\n",
    "        while True:\n",
    "            value = 2 #variable which is used to set power(s) in binary type\n",
    "            templist = [] #temporary list to store either 2 or 1\n",
    "            if power == 1: #atlast only 1 is left\n",
    "                templist.append(1) #append 1 to list as it is only power left so break the loop\n",
    "                plist.append(templist) #append templist to final list of power(s)\n",
    "                break #breaking loop\n",
    "            if power == 0: #if 0 is left then just break the loop as all power(s) are adjusted\n",
    "                break #breaking loop\n",
    "            while True:\n",
    "                if (value * 2) > power: #getting highest number which equals to 2^n and smaller or equals to power to reduce the no of multiplication\n",
    "                    #if no found! it will make list of [(A^2)^2] for e.g. only\n",
    "                    templist.append(2) #append 2 to the list as previous value\n",
    "                    plist.append(templist) #appending templist to the main list of power(s)\n",
    "                    power = power - value #assigning now remaining power(s) to power\n",
    "                    break #breaking inner loop\n",
    "                else:\n",
    "                    value = value * 2 #multiply itself till highest number is not encountered!\n",
    "                    templist.append(2) #appending power(s) to the templist\n",
    "        #now, plist have multiple list of power(s) in terms of 2 and 1\n",
    "        #so, if we find repetive square till len of list for 2 and assign same matrix for 1 and multiply resultant of all lists of \n",
    "        #plist then we get a resultant matrix of power of matrix\n",
    "        resMat = [] #temporary list which will store all resultant matrices of lists of plist as list of matrices\n",
    "        for row in range(0, len(plist)): #visit every list of plist\n",
    "            sqMat = tMat * tMat #getting square of given matrix first\n",
    "            for col in range(0, len(plist[row])): #visit every power of list of plist\n",
    "                if plist[row][col] == 2: #if power(s) contained by list is 2\n",
    "                    if col == (len(plist[row]) -1): #if power is 2 then visit two element(s) less thant len of list because sqMat already utilized one 2\n",
    "                        continue\n",
    "                    sqMat = sqMat * sqMat #multiplied square of matrix to itself so power will increase 2^power\n",
    "                else: #if power is 1 then only 1 element is containing by list as there is only one 1's or zero 1's for any power\n",
    "                    sqMat = tMat #calculating tMat^1 atlast\n",
    "            resMat.append(sqMat) #resultant matrix of list(s) of power(s) is stored in resMat list of matrices\n",
    "        powMat = SquareMatrix() #teporary Square Matrix to store final resultant of power of Square Matrix\n",
    "        for row in range(0, len(resMat)): #visiting every resultant matrices\n",
    "            if row == 0:\n",
    "                powMat = resMat[row] #set powMat to first Matrix of resMat list of resultant matrices\n",
    "            else: #now multiply every resultant matrices from left to right from resMat list of resultant matrices\n",
    "                powMat = powMat * resMat[row] #multiply resultant matrices\n",
    "        return powMat #return final resultant matrix of power of Square Matrix\n",
    "    #end of __pow__().....\n",
    "    \n",
    "    def isSquareMatrix(self):\n",
    "        'This function will return True if matrix is square matrix otherwise return false.'\n",
    "        if self._row == self._col:\n",
    "            return True #return true if no of row(s) and column(s) are equal\n",
    "        return False #return false if no of row(s) and column(s) are not equal\n",
    "    #end of isSquareMatrix().....\n",
    "#end of the class Matrix"
   ]
  },
  {
   "cell_type": "markdown",
   "metadata": {},
   "source": [
    "# Constructor & Operator overloading in Matrix"
   ]
  },
  {
   "cell_type": "markdown",
   "metadata": {},
   "source": [
    "### 1. __init__(self):\n",
    "\tThis is constructor of Matrix class. It is used to initialize the Matrix class. It will set no. of row(s) and column(s) of matrix to 0 and make a empty matrix. It will initialize the Matrix class but not initialize the real matrix (matrix must contain no. of row(s) and column(s) more than 0). To initialize mathematical matrix either call setDimension() or insertValues().\n",
    "Example:"
   ]
  },
  {
   "cell_type": "code",
   "execution_count": 16,
   "metadata": {},
   "outputs": [],
   "source": [
    "matrix = Matrix() #matrix is object of Matrix which is initialized using constructor"
   ]
  },
  {
   "cell_type": "markdown",
   "metadata": {},
   "source": [
    "### 2. __setitem__(self, key, data):\n",
    "\tThis is operator overloading of '[]' operator to set value(s) of matrix. If one should have to use single square bracket '[]' to set value(s) of particular row but the data must be list and should contain only int or float number(s). If list is containing another list than also this function will give error. If one wants to set value at particular column on particular row than double square bracket must be used and data type of data must be int or float only. \n",
    "Example:"
   ]
  },
  {
   "cell_type": "code",
   "execution_count": 46,
   "metadata": {},
   "outputs": [
    {
     "name": "stdout",
     "output_type": "stream",
     "text": [
      "Output\n",
      "\n",
      "Matrix contents: \n",
      "\n",
      "\t0.00     0.00     0.00     \n",
      "\t1.00     2.00     3.00     \n",
      "\t0.00     0.00     2.00     \n"
     ]
    }
   ],
   "source": [
    "matrix = Matrix() #Matrix object\n",
    "matrix.setDimension(3,3) #make zero matrix of 3 X 3\n",
    "matrix[1] = [1,2,3] #it will set list of int to second row of matrix only if no. of value(s) in list is equal to the no. of column(s) of matrix\n",
    "matrix[2][2] = 2 #it will set value to third row and third column of matrix\n",
    "print (\"Output\")\n",
    "matrix.display() #it will show matrix"
   ]
  },
  {
   "cell_type": "markdown",
   "metadata": {},
   "source": [
    "### 3. __getitem__(self, key):\n",
    "\tThis is operator overloading of '[]' operator to get value(s) of matrix. It will return list of value(s) of particular row if single square bracket '[]' is used to get value(s) and will return value of particular column on particular row if double square bracket '[][]' is used to get value(s) of Matrix. If dimension of Matrix is not set or set to zero then it will give error as matrix is not initialized yet.\n",
    "Example:"
   ]
  },
  {
   "cell_type": "code",
   "execution_count": 18,
   "metadata": {},
   "outputs": [
    {
     "name": "stdout",
     "output_type": "stream",
     "text": [
      "Output:\n",
      "\n",
      "row 1 of matrix:\n",
      " [0, 0, 0]\n",
      "value at column 2 of row 2 of matrix:\n",
      " 0\n"
     ]
    }
   ],
   "source": [
    "matrix = Matrix() #object of Matrix\n",
    "matrix.setDimension(3,3) #it will make zero matrix of 3 X 3\n",
    "valueList = matrix[1] #it will return list value(s) of second row of matrix\n",
    "value = matrix[1][1] #it will return single value at second row and second column (second index will be used for selecting column)\n",
    "print (\"Output:\\n\\nrow 1 of matrix:\\n\",valueList) #print list of row 2 of matrix\n",
    "print (\"value at column 2 of row 2 of matrix:\\n\",value) #print value from second row and second column of matrix"
   ]
  },
  {
   "cell_type": "markdown",
   "metadata": {},
   "source": [
    "### 4. __mul__(self, other):\n",
    "\tThis is operator overloading of binary multiplication '*' operator to do multiplication of Matrix. It will multiply two Matrix object if no.of column(s) of first Matrix is equal to the no. of row(s) of second Matrix. It will multiply N X M and M X K matrices and return resultant of N X K dimension as per mathematics rule of matrix multiplication. It also gives functionality of multiplying matrix with scalar but if Matrix is first argument and sacalr is second argument.\n",
    "Example:"
   ]
  },
  {
   "cell_type": "code",
   "execution_count": 19,
   "metadata": {},
   "outputs": [
    {
     "name": "stdout",
     "output_type": "stream",
     "text": [
      "Input:\n",
      "input for matrix\n",
      "Enter no. of row(s) of matrix: \n",
      "3\n",
      "Enter no. of coloumn(s) of matrix: \n",
      "3\n",
      "Enter value of matrix: \n",
      "\n",
      "\tEnter value of Row- 1  - (every column value must be separated by space e.g. 3 5 5): \n",
      "2 5 3\n",
      "\tEnter value of Row- 2  - (every column value must be separated by space e.g. 3 5 5): \n",
      "5 4 8\n",
      "\tEnter value of Row- 3  - (every column value must be separated by space e.g. 3 5 5): \n",
      "3 7 4\n",
      "input for matrix_1\n",
      "Enter no. of row(s) of matrix: \n",
      "3\n",
      "Enter no. of coloumn(s) of matrix: \n",
      "3\n",
      "Enter value of matrix: \n",
      "\n",
      "\tEnter value of Row- 1  - (every column value must be separated by space e.g. 3 5 5): \n",
      "4 7 5\n",
      "\tEnter value of Row- 2  - (every column value must be separated by space e.g. 3 5 5): \n",
      "3 4 5\n",
      "\tEnter value of Row- 3  - (every column value must be separated by space e.g. 3 5 5): \n",
      "3 8 6\n",
      "\n",
      "Output\n",
      "\n",
      "Matrix after matrix * matrix_1\n",
      "\n",
      "Matrix contents: \n",
      "\n",
      "\t32.00     58.00     53.00     \n",
      "\t56.00     115.00     93.00     \n",
      "\t45.00     81.00     74.00     \n",
      "Matrix after matrix_1 * 2\n",
      "\n",
      "Matrix contents: \n",
      "\n",
      "\t8.00     14.00     10.00     \n",
      "\t6.00     8.00     10.00     \n",
      "\t6.00     16.00     12.00     \n"
     ]
    }
   ],
   "source": [
    "matrix = Matrix() #objet of Matrix\n",
    "matrix_1 = Matrix() #object of Matrix\n",
    "print (\"Input:\\ninput for matrix\")\n",
    "matrix.insertValues() #it will take value(s) for matrix\n",
    "print (\"input for matrix_1\")\n",
    "matrix_1.insertValues() #it will take value(s) for matrix_1\n",
    "matrix = matrix * matrix_1 #it will multiply both matrices if multiplication condition of row and column is satisfied.\n",
    "print (\"\\nOutput\\n\")\n",
    "print (\"Matrix after matrix * matrix_1\")\n",
    "matrix.display() #it will display matrix after multiplication\n",
    "matrix = matrix_1 * 2 #it will mulptiply matrix_1 with 2\n",
    "print (\"Matrix after matrix_1 * 2\")\n",
    "matrix.display() #it will display matrix_1 after scalar multiplication\n",
    "#matrix = 2 * matrix #this functionality will be handled by __rmul__() but user don't have to bother this as system will automatically take care of it"
   ]
  },
  {
   "cell_type": "markdown",
   "metadata": {},
   "source": [
    "### 5. __rmul__(self, other):\n",
    "\tThis is operator overloading of binary multiplication '*' operator to multiply Matrix with scalar if sacar is first argument and Matrix is second argument. This is automatically call by system if above condition is arise.\n",
    "Example:"
   ]
  },
  {
   "cell_type": "code",
   "execution_count": 21,
   "metadata": {},
   "outputs": [
    {
     "name": "stdout",
     "output_type": "stream",
     "text": [
      "Input:\n",
      "\n",
      "Enter no. of row(s) of matrix: \n",
      "2\n",
      "Enter no. of coloumn(s) of matrix: \n",
      "2\n",
      "Enter value of matrix: \n",
      "\n",
      "\tEnter value of Row- 1  - (every column value must be separated by space e.g. 3 5 5): \n",
      "4 6\n",
      "\tEnter value of Row- 2  - (every column value must be separated by space e.g. 3 5 5): \n",
      "5 4\n",
      "\n",
      "Output:\n",
      "matrix after 2 * matrix\n",
      "\n",
      "Matrix contents: \n",
      "\n",
      "\t8.00     12.00     \n",
      "\t10.00     8.00     \n"
     ]
    }
   ],
   "source": [
    "#### matrix = Matrix() #object of Matrix\n",
    "print (\"Input:\\n\")\n",
    "matrix.insertValues() #it will take value(s) for matrix\n",
    "matrix = 2 * matrix #by default system will call __rmul__() to implement this type of scalar product of matrix\n",
    "print (\"\\nOutput:\")\n",
    "print (\"matrix after 2 * matrix\")\n",
    "matrix.display() #it will display matrix after scalar multiplication"
   ]
  },
  {
   "cell_type": "markdown",
   "metadata": {},
   "source": [
    "### 6. __add__(self, other):\n",
    "\tThis is operator oveloading of binary plus '+' operator to add two Matrix of same dimension. Or to add scalar to Matrix. And will return the resultant after adding two matrices of same dimension.\n",
    "Example:"
   ]
  },
  {
   "cell_type": "code",
   "execution_count": 23,
   "metadata": {},
   "outputs": [
    {
     "name": "stdout",
     "output_type": "stream",
     "text": [
      "Input:\n",
      "input for matrix\n",
      "Enter no. of row(s) of matrix: \n",
      "2\n",
      "Enter no. of coloumn(s) of matrix: \n",
      "3\n",
      "Enter value of matrix: \n",
      "\n",
      "\tEnter value of Row- 1  - (every column value must be separated by space e.g. 3 5 5): \n",
      "3 5 4\n",
      "\tEnter value of Row- 2  - (every column value must be separated by space e.g. 3 5 5): \n",
      "6 5 7\n",
      "\n",
      "input for matrix_1\n",
      "Enter no. of row(s) of matrix: \n",
      "2\n",
      "Enter no. of coloumn(s) of matrix: \n",
      "3\n",
      "Enter value of matrix: \n",
      "\n",
      "\tEnter value of Row- 1  - (every column value must be separated by space e.g. 3 5 5): \n",
      "3 8 6\n",
      "\tEnter value of Row- 2  - (every column value must be separated by space e.g. 3 5 5): \n",
      "9 0 -2\n",
      "\n",
      "Output:\n",
      "matrix aftr matrix + matrix_1\n",
      "\n",
      "Matrix contents: \n",
      "\n",
      "\t6.00     13.00     10.00     \n",
      "\t15.00     5.00     5.00     \n",
      "\n",
      "matrix after matrix_1 + 2\n",
      "\n",
      "Matrix contents: \n",
      "\n",
      "\t5.00     10.00     8.00     \n",
      "\t11.00     2.00     0.00     \n"
     ]
    }
   ],
   "source": [
    "matrix = Matrix() #object of Matrix\n",
    "matrix_1 = Matrix() #object of Matrix\n",
    "print (\"Input:\\ninput for matrix\")\n",
    "matrix.insertValues() #it will take value(s) of matrix\n",
    "print (\"\\ninput for matrix_1\")\n",
    "matrix_1.insertValues() #it will take value(s) of matrix_1\n",
    "matrix = matrix + matrix_1 #it will add matrix and matrix_1 if both are of same dimension\n",
    "print (\"\\nOutput:\\nmatrix aftr matrix + matrix_1\")\n",
    "matrix.display() #it will display matrix after addition\n",
    "matrix = matrix_1 + 2 #it will add 2 to matrix_1 (as scalar can be added to matrix)\n",
    "print (\"\\nmatrix after matrix_1 + 2\")\n",
    "matrix.display() #it will display matrix after scalar addition\n",
    "#matrix = 2 + matrix_1 #this functionality will be handled by __radd__() but system will automatically take care of it."
   ]
  },
  {
   "cell_type": "markdown",
   "metadata": {},
   "source": [
    "### 7. __radd__(self, other):\n",
    "    This is operator oveloading of binary plus '+' operator to show error if user is trying to add matrix to scalar as from mathematics rule of addition of matrix - matrix can not be added to scalar.\n",
    "Example:"
   ]
  },
  {
   "cell_type": "code",
   "execution_count": 24,
   "metadata": {},
   "outputs": [
    {
     "ename": "MatrixAdditionError",
     "evalue": "matrix can not be added to the scalar.",
     "output_type": "error",
     "traceback": [
      "\u001b[0;31m---------------------------------------------------------------------------\u001b[0m",
      "\u001b[0;31mMatrixAdditionError\u001b[0m                       Traceback (most recent call last)",
      "\u001b[0;32m<ipython-input-24-f58221a3fcc4>\u001b[0m in \u001b[0;36m<module>\u001b[0;34m()\u001b[0m\n\u001b[1;32m      1\u001b[0m \u001b[0mmatrix\u001b[0m \u001b[0;34m=\u001b[0m \u001b[0mMatrix\u001b[0m\u001b[0;34m(\u001b[0m\u001b[0;34m)\u001b[0m \u001b[0;31m#object of Matrix\u001b[0m\u001b[0;34m\u001b[0m\u001b[0m\n\u001b[0;32m----> 2\u001b[0;31m \u001b[0mmatrix\u001b[0m \u001b[0;34m=\u001b[0m \u001b[0;36m2\u001b[0m \u001b[0;34m+\u001b[0m \u001b[0mmatrix\u001b[0m \u001b[0;31m#it will give error (matrix can not be added to scalar while scalar can be added to matrix)\u001b[0m\u001b[0;34m\u001b[0m\u001b[0m\n\u001b[0m",
      "\u001b[0;32m<ipython-input-15-3753d38ddb27>\u001b[0m in \u001b[0;36m__radd__\u001b[0;34m(self, other)\u001b[0m\n\u001b[1;32m    250\u001b[0m         \u001b[0;34m'This is operator overloading to prevent user to add matrix to the scalar.'\u001b[0m\u001b[0;34m\u001b[0m\u001b[0m\n\u001b[1;32m    251\u001b[0m         \u001b[0;31m#only scalar can be added to the matrix. Matrix never be added to scalar - as per mathematics rule of matrix scalar addition\u001b[0m\u001b[0;34m\u001b[0m\u001b[0;34m\u001b[0m\u001b[0m\n\u001b[0;32m--> 252\u001b[0;31m         \u001b[0;32mraise\u001b[0m \u001b[0mMatrixAdditionError\u001b[0m\u001b[0;34m(\u001b[0m\u001b[0;34m\"matrix can not be added to the scalar.\"\u001b[0m\u001b[0;34m)\u001b[0m \u001b[0;31m#raise MatrixScalarAdditionException to halt program\u001b[0m\u001b[0;34m\u001b[0m\u001b[0m\n\u001b[0m\u001b[1;32m    253\u001b[0m     \u001b[0;31m#end of __radd__().....\u001b[0m\u001b[0;34m\u001b[0m\u001b[0;34m\u001b[0m\u001b[0m\n\u001b[1;32m    254\u001b[0m \u001b[0;34m\u001b[0m\u001b[0m\n",
      "\u001b[0;31mMatrixAdditionError\u001b[0m: matrix can not be added to the scalar."
     ]
    }
   ],
   "source": [
    "matrix = Matrix() #object of Matrix\n",
    "matrix = 2 + matrix #it will give error (matrix can not be added to scalar while scalar can be added to matrix)"
   ]
  },
  {
   "cell_type": "markdown",
   "metadata": {},
   "source": [
    "### 8. __sub__(self, other):\n",
    "\tThis is overloading of binary minus '-' operator to subtract a matrix from another matrix if both are of same dimension. Or to subtract scalar from any Matrix. It will return the resultant after performing subtraction operation on matrix.\n",
    "Example:"
   ]
  },
  {
   "cell_type": "code",
   "execution_count": 27,
   "metadata": {},
   "outputs": [
    {
     "name": "stdout",
     "output_type": "stream",
     "text": [
      "Input:\n",
      "input for matrix:\n",
      "Enter no. of row(s) of matrix: \n",
      "2\n",
      "Enter no. of coloumn(s) of matrix: \n",
      "2\n",
      "Enter value of matrix: \n",
      "\n",
      "\tEnter value of Row- 1  - (every column value must be separated by space e.g. 3 5 5): \n",
      "4 7\n",
      "\tEnter value of Row- 2  - (every column value must be separated by space e.g. 3 5 5): \n",
      "9 -2\n",
      "\n",
      "input for matrix_1:\n",
      "Enter no. of row(s) of matrix: \n",
      "2\n",
      "Enter no. of coloumn(s) of matrix: \n",
      "2\n",
      "Enter value of matrix: \n",
      "\n",
      "\tEnter value of Row- 1  - (every column value must be separated by space e.g. 3 5 5): \n",
      "4 7\n",
      "\tEnter value of Row- 2  - (every column value must be separated by space e.g. 3 5 5): \n",
      "4 9\n",
      "\n",
      "Output:\n",
      "matrix after matrix - matrix_1\n",
      "\n",
      "Matrix contents: \n",
      "\n",
      "\t0.00     0.00     \n",
      "\t5.00     -11.00     \n",
      "\n",
      "matrix after matrix_1 - 2:\n",
      "\n",
      "Matrix contents: \n",
      "\n",
      "\t2.00     5.00     \n",
      "\t2.00     7.00     \n"
     ]
    }
   ],
   "source": [
    "matrix = Matrix() #object of Matrix\n",
    "matrix_1 = Matrix() #object of Matrix\n",
    "print (\"Input:\\ninput for matrix:\")\n",
    "matrix.insertValues() #take value(s) for matrix\n",
    "print (\"\\ninput for matrix_1:\")\n",
    "matrix_1.insertValues() #take value(s) for matrix_1\n",
    "matrix = matrix - matrix_1 #it will subtract matrix_1 from matrix if both are of same dimension\n",
    "print (\"\\nOutput:\\nmatrix after matrix - matrix_1\")\n",
    "matrix.display() #it will display matrix after subtraction operation\n",
    "matrix = matrix_1 - 2 #it will subtract 2 from matrix_1 (scalar can be subtracted from matrix)\n",
    "print (\"\\nmatrix after matrix_1 - 2:\")\n",
    "matrix.display() #it will display matrix after scalar subtraction\n",
    "#matrix = 2 - matrix_1 #this functionality will be implemented by __rsub__() but system will automatically take care of it"
   ]
  },
  {
   "cell_type": "markdown",
   "metadata": {},
   "source": [
    "### 9. __rsub__(self, other):\n",
    "\tThis is overloading of binary minu '-' operator to subtract matrix from scalar but as per mathematics rule of matrix subtraction - matrix can not be subtracted from any scalar quantity. So, it will always raise error if one trying to subtract matrix from scalar.\n",
    "Example:"
   ]
  },
  {
   "cell_type": "code",
   "execution_count": 29,
   "metadata": {},
   "outputs": [
    {
     "ename": "MatrixSubtractionError",
     "evalue": "matrix can not be subtracted from scalar.",
     "output_type": "error",
     "traceback": [
      "\u001b[0;31m---------------------------------------------------------------------------\u001b[0m",
      "\u001b[0;31mMatrixSubtractionError\u001b[0m                    Traceback (most recent call last)",
      "\u001b[0;32m<ipython-input-29-4acc6c0b6aa7>\u001b[0m in \u001b[0;36m<module>\u001b[0;34m()\u001b[0m\n\u001b[1;32m      1\u001b[0m \u001b[0mmatrix\u001b[0m \u001b[0;34m=\u001b[0m \u001b[0mMatrix\u001b[0m\u001b[0;34m(\u001b[0m\u001b[0;34m)\u001b[0m \u001b[0;31m#object of Matrix\u001b[0m\u001b[0;34m\u001b[0m\u001b[0m\n\u001b[1;32m      2\u001b[0m \u001b[0mmatrix\u001b[0m\u001b[0;34m.\u001b[0m\u001b[0msetDimension\u001b[0m\u001b[0;34m(\u001b[0m\u001b[0;36m3\u001b[0m\u001b[0;34m,\u001b[0m\u001b[0;36m3\u001b[0m\u001b[0;34m)\u001b[0m \u001b[0;31m#it will make zero matrix of 3 X 3\u001b[0m\u001b[0;34m\u001b[0m\u001b[0m\n\u001b[0;32m----> 3\u001b[0;31m \u001b[0mmatrix\u001b[0m \u001b[0;34m=\u001b[0m \u001b[0;36m2\u001b[0m \u001b[0;34m-\u001b[0m \u001b[0mmatrix\u001b[0m \u001b[0;31m#it will raise error (matrix can not be subtracted from scalar while scalar can be subtracted from matrix)\u001b[0m\u001b[0;34m\u001b[0m\u001b[0m\n\u001b[0m",
      "\u001b[0;32m<ipython-input-15-3753d38ddb27>\u001b[0m in \u001b[0;36m__rsub__\u001b[0;34m(self, other)\u001b[0m\n\u001b[1;32m    289\u001b[0m         \u001b[0;34m'This is operator overloading to prevent user to subtract matrix from scalar value.'\u001b[0m\u001b[0;34m\u001b[0m\u001b[0m\n\u001b[1;32m    290\u001b[0m         \u001b[0;31m#only scalar can be subtracted from matrix. Matrix never be subtracted from scalar - as per mathematics rule of matrix scalar subtraction\u001b[0m\u001b[0;34m\u001b[0m\u001b[0;34m\u001b[0m\u001b[0m\n\u001b[0;32m--> 291\u001b[0;31m         \u001b[0;32mraise\u001b[0m \u001b[0mMatrixSubtractionError\u001b[0m\u001b[0;34m(\u001b[0m\u001b[0;34m\"matrix can not be subtracted from scalar.\"\u001b[0m\u001b[0;34m)\u001b[0m \u001b[0;31m#raise MatrixScalarAdditionException to halt program\u001b[0m\u001b[0;34m\u001b[0m\u001b[0m\n\u001b[0m\u001b[1;32m    292\u001b[0m     \u001b[0;31m#end of __rsub__().....\u001b[0m\u001b[0;34m\u001b[0m\u001b[0;34m\u001b[0m\u001b[0m\n\u001b[1;32m    293\u001b[0m \u001b[0;34m\u001b[0m\u001b[0m\n",
      "\u001b[0;31mMatrixSubtractionError\u001b[0m: matrix can not be subtracted from scalar."
     ]
    }
   ],
   "source": [
    "matrix = Matrix() #object of Matrix\n",
    "matrix.setDimension(3,3) #it will make zero matrix of 3 X 3\n",
    "matrix = 2 - matrix #it will raise error (matrix can not be subtracted from scalar while scalar can be subtracted from matrix)"
   ]
  },
  {
   "cell_type": "markdown",
   "metadata": {},
   "source": [
    "### 10. __eq__(self, other):\n",
    "\tThis is overloading of equality comparision '==' operator to check whether two Matrix are equal or not. If given two Matrix are equal it will return True otherwise it will return false. Equality will be checked as per rule of mathematics of equaliy of two matrices.\n",
    "Example:"
   ]
  },
  {
   "cell_type": "code",
   "execution_count": 31,
   "metadata": {},
   "outputs": [
    {
     "name": "stdout",
     "output_type": "stream",
     "text": [
      "Input:\n",
      "input for matrix:\n",
      "Enter no. of row(s) of matrix: \n",
      "2\n",
      "Enter no. of coloumn(s) of matrix: \n",
      "2\n",
      "Enter value of matrix: \n",
      "\n",
      "\tEnter value of Row- 1  - (every column value must be separated by space e.g. 3 5 5): \n",
      "3 5\n",
      "\tEnter value of Row- 2  - (every column value must be separated by space e.g. 3 5 5): \n",
      "3 5\n",
      "\n",
      "input for matrix_1:\n",
      "Enter no. of row(s) of matrix: \n",
      "2\n",
      "Enter no. of coloumn(s) of matrix: \n",
      "2\n",
      "Enter value of matrix: \n",
      "\n",
      "\tEnter value of Row- 1  - (every column value must be separated by space e.g. 3 5 5): \n",
      "3 5\n",
      "\tEnter value of Row- 2  - (every column value must be separated by space e.g. 3 5 5): \n",
      "3 5\n",
      "\n",
      "Ouput:\n",
      "\n",
      "matrices are equal\n"
     ]
    }
   ],
   "source": [
    "matrix = Matrix() #object of Matrix\n",
    "matrix_1 = Matrix() #object of Matrix\n",
    "print (\"Input:\\ninput for matrix:\")\n",
    "matrix.insertValues() #it will take value(s) of matrix\n",
    "print (\"\\ninput for matrix_1:\")\n",
    "matrix_1.insertValues() #it will take value(s) of matrix_1\n",
    "print (\"\\nOuput:\\n\")\n",
    "if matrix == matrix_1:\n",
    "    print (\"matrices are equal\") #it will be printed if both the matrices are equal"
   ]
  },
  {
   "cell_type": "markdown",
   "metadata": {},
   "source": [
    "### 11. __ne__(self, other):\n",
    "\tThis is overloading of inequalit comparision '!=' or \"<>\" operator to check whether two Matrix are equal or not. If given tow Matrix are equal it will return False otherwise it will return true. Equality will be checked as per rule of mathematics of equality of two matrices.\n",
    "Example:"
   ]
  },
  {
   "cell_type": "code",
   "execution_count": 34,
   "metadata": {},
   "outputs": [
    {
     "name": "stdout",
     "output_type": "stream",
     "text": [
      "Input:\n",
      "input for matrix:\n",
      "Enter no. of row(s) of matrix: \n",
      "2\n",
      "Enter no. of coloumn(s) of matrix: \n",
      "2\n",
      "Enter value of matrix: \n",
      "\n",
      "\tEnter value of Row- 1  - (every column value must be separated by space e.g. 3 5 5): \n",
      "3 7\n",
      "\tEnter value of Row- 2  - (every column value must be separated by space e.g. 3 5 5): \n",
      "3 5\n",
      "\n",
      "input for matrix_1:\n",
      "Enter no. of row(s) of matrix: \n",
      "2\n",
      "Enter no. of coloumn(s) of matrix: \n",
      "2\n",
      "Enter value of matrix: \n",
      "\n",
      "\tEnter value of Row- 1  - (every column value must be separated by space e.g. 3 5 5): \n",
      "0 8\n",
      "\tEnter value of Row- 2  - (every column value must be separated by space e.g. 3 5 5): \n",
      "9 8\n",
      "\n",
      "Ouput:\n",
      "\n",
      "matrices are not equal\n"
     ]
    }
   ],
   "source": [
    "matrix = Matrix() #object of Matrix\n",
    "matrix_1 = Matrix() #object of Matrix\n",
    "print (\"Input:\\ninput for matrix:\")\n",
    "matrix.insertValues() #it will take value(s) of matrix\n",
    "print (\"\\ninput for matrix_1:\")\n",
    "matrix_1.insertValues() #it will take value(s) of matrix_1\n",
    "print (\"\\nOuput:\\n\")\n",
    "if matrix != matrix_1:\n",
    "    print ('matrices are not equal') #it will be printed if both the matrices are not equal"
   ]
  },
  {
   "cell_type": "markdown",
   "metadata": {},
   "source": [
    "### 12. __pow__(self, other):\n",
    "\tThis is operator overloading of power '**' operator to find power of square matrix. If no. of row(s) and no. of column(s) of Matrix are equal than this will find power of Matrix otherwise it will give error. It is using property of associvity of multiplication of matrices to find Nth power of square matrix. It will return the resultant of Nth power of square matrix.\n",
    "Example:"
   ]
  },
  {
   "cell_type": "code",
   "execution_count": 35,
   "metadata": {},
   "outputs": [
    {
     "name": "stdout",
     "output_type": "stream",
     "text": [
      "Input:\n",
      "input for matrix:\n",
      "Enter no. of row(s) of matrix: \n",
      "3\n",
      "Enter no. of coloumn(s) of matrix: \n",
      "3\n",
      "Enter value of matrix: \n",
      "\n",
      "\tEnter value of Row- 1  - (every column value must be separated by space e.g. 3 5 5): \n",
      "2 5 6\n",
      "\tEnter value of Row- 2  - (every column value must be separated by space e.g. 3 5 5): \n",
      "3 4 5\n",
      "\tEnter value of Row- 3  - (every column value must be separated by space e.g. 3 5 5): \n",
      "2 0 -2\n",
      "\n",
      "Output: \n",
      "matrix after matrix ** 2:\n",
      "\n",
      "Matrix contents: \n",
      "\n",
      "\t31.00     30.00     25.00     \n",
      "\t28.00     31.00     28.00     \n",
      "\t0.00     10.00     16.00     \n"
     ]
    }
   ],
   "source": [
    "matrix = Matrix() #object of Matrix\n",
    "print (\"Input:\\ninput for matrix:\")\n",
    "matrix.insertValues() #it will take value(s) of matrix\n",
    "matrix = matrix ** 2 #if matrix is square matrix then it will return the square of given square matrix\n",
    "print (\"\\nOutput: \\nmatrix after matrix ** 2:\")\n",
    "matrix.display() #it will display matrix after calculating square of square matrix"
   ]
  },
  {
   "cell_type": "markdown",
   "metadata": {},
   "source": [
    "# Public method(s) of Matrix class"
   ]
  },
  {
   "cell_type": "markdown",
   "metadata": {},
   "source": [
    "### 1. insertValues(self):\n",
    "\tThis is public function used to take value of Matrix in well shaped format or give some easy functionality to set value to Matrix. It will handle error in it's own way. It will take value(s) of a single row at same time in which value(s) of column(s) are separated by space. It is also used to initialized real matrix after constructor\n",
    "Example: "
   ]
  },
  {
   "cell_type": "code",
   "execution_count": 36,
   "metadata": {},
   "outputs": [
    {
     "name": "stdout",
     "output_type": "stream",
     "text": [
      "Input:\n",
      "\n",
      "Enter no. of row(s) of matrix: \n",
      "2\n",
      "Enter no. of coloumn(s) of matrix: \n",
      "3\n",
      "Enter value of matrix: \n",
      "\n",
      "\tEnter value of Row- 1  - (every column value must be separated by space e.g. 3 5 5): \n",
      "3 7 5\n",
      "\tEnter value of Row- 2  - (every column value must be separated by space e.g. 3 5 5): \n",
      "4 5 7\n",
      "\n",
      "Output:\n",
      "\n",
      "\n",
      "Matrix contents: \n",
      "\n",
      "\t3.00     7.00     5.00     \n",
      "\t4.00     5.00     7.00     \n"
     ]
    }
   ],
   "source": [
    "matrix = Matrix() #object of Matrix\n",
    "print (\"Input:\\n\")\n",
    "matrix.insertValues() #used to take dimension and value(s) of matrix\n",
    "print (\"\\nOutput:\\n\")\n",
    "matrix.display() #it will show the entered matrix"
   ]
  },
  {
   "cell_type": "markdown",
   "metadata": {},
   "source": [
    "### 2. setDimension(self, row, col):\n",
    "\tThis is public function used to set no. of row(s) and no. of column(s) of Matrix. And make zero matrix of entered dimension. It is also used to initialized real matrix after constuctor\n",
    "Example:"
   ]
  },
  {
   "cell_type": "code",
   "execution_count": 38,
   "metadata": {},
   "outputs": [
    {
     "name": "stdout",
     "output_type": "stream",
     "text": [
      "Output:\n",
      "\n",
      "\n",
      "Matrix contents: \n",
      "\n",
      "\t0.00     0.00     0.00     \n",
      "\t0.00     0.00     0.00     \n"
     ]
    }
   ],
   "source": [
    "matrix = Matrix() #oject of Matrix\n",
    "matrix.setDimension(2,3) #it will set 2 rows and 3 columns and set all value(s) to zero or make zero matrix.\n",
    "print (\"Output:\\n\")\n",
    "matrix.display() #it will display matrix"
   ]
  },
  {
   "cell_type": "markdown",
   "metadata": {},
   "source": [
    "### 3. getDimension(self):\n",
    "\tThis is public function used to get dimension of Matrix. It will return list of 2 elements where first element is no. of row(s) and second element is no. of column(s) of Matrix.\n",
    "Example:"
   ]
  },
  {
   "cell_type": "code",
   "execution_count": 41,
   "metadata": {},
   "outputs": [
    {
     "name": "stdout",
     "output_type": "stream",
     "text": [
      "Output:\n",
      "\n",
      "dimension list =  [2, 3]\n"
     ]
    }
   ],
   "source": [
    "matrix = Matrix() #object of Matrix\n",
    "matrix.setDimension(2,3) #it will set dimension of matrix or make zero matrix of 2 X 3\n",
    "dimensionList = matrix.getDimension() #it will return dimension list of matrix\n",
    "print (\"Output:\\n\\ndimension list = \", dimensionList)"
   ]
  },
  {
   "cell_type": "markdown",
   "metadata": {},
   "source": [
    "### 4. display(self):\n",
    "\tThis is public function used to manipulate the Matrix value(s) and display the value(s) of Matrix in real matrix format. If matrix doesn't have value(s) it will print 'Matrix is empty'\n",
    "Example:"
   ]
  },
  {
   "cell_type": "code",
   "execution_count": 42,
   "metadata": {},
   "outputs": [
    {
     "name": "stdout",
     "output_type": "stream",
     "text": [
      "Input:\n",
      "\n",
      "Enter no. of row(s) of matrix: \n",
      "2\n",
      "Enter no. of coloumn(s) of matrix: \n",
      "2\n",
      "Enter value of matrix: \n",
      "\n",
      "\tEnter value of Row- 1  - (every column value must be separated by space e.g. 3 5 5): \n",
      "4 5\n",
      "\tEnter value of Row- 2  - (every column value must be separated by space e.g. 3 5 5): \n",
      "6 7\n",
      "\n",
      "Output:\n",
      "\n",
      "\n",
      "Matrix contents: \n",
      "\n",
      "\t4.00     5.00     \n",
      "\t6.00     7.00     \n"
     ]
    }
   ],
   "source": [
    "matrix = Matrix() #object of Matrix\n",
    "print (\"Input:\\n\")\n",
    "matrix.insertValues() #it will take value(s) of matrix\n",
    "print (\"\\nOutput:\\n\")\n",
    "matrix.display() #it will display the value(s) of matrix"
   ]
  },
  {
   "cell_type": "markdown",
   "metadata": {},
   "source": [
    "### 5. transpose(self):\n",
    "\tThis is public function to calculate transpose of Matrix and if matrix is of N X M dimension then it will return M X N dimension matrix which is transpose of given matrix.\n",
    "Example:"
   ]
  },
  {
   "cell_type": "code",
   "execution_count": 43,
   "metadata": {},
   "outputs": [
    {
     "name": "stdout",
     "output_type": "stream",
     "text": [
      "Input:\n",
      "\n",
      "Enter no. of row(s) of matrix: \n",
      "2\n",
      "Enter no. of coloumn(s) of matrix: \n",
      "3\n",
      "Enter value of matrix: \n",
      "\n",
      "\tEnter value of Row- 1  - (every column value must be separated by space e.g. 3 5 5): \n",
      "3 4 5\n",
      "\tEnter value of Row- 2  - (every column value must be separated by space e.g. 3 5 5): \n",
      "8 0 -2\n",
      "\n",
      "Output:\n",
      "transpose of matrix:\n",
      "\n",
      "Matrix contents: \n",
      "\n",
      "\t3.00     8.00     \n",
      "\t4.00     0.00     \n",
      "\t5.00     -2.00     \n"
     ]
    }
   ],
   "source": [
    "matrix = Matrix() #object of Matrix\n",
    "print (\"Input:\\n\")\n",
    "matrix.insertValues() #take value(s) of matrix\n",
    "trans = Matrix() #object of Matrix\n",
    "trans = matrix.transpose() #it will calculate transpose of matrix and assign it to trans\n",
    "print (\"\\nOutput:\\ntranspose of matrix:\")\n",
    "trans.display() #it will show trans "
   ]
  },
  {
   "cell_type": "markdown",
   "metadata": {},
   "source": [
    "### 6. determinant(self):\n",
    "\tThis is public function to calculate determinant of square matrix. It will only calculate determinant if no. row(s) and column(s) of Matrix is equal otherwise it will raise error. It will return a value which is determinant of given M X M matrix.\n",
    "Example:"
   ]
  },
  {
   "cell_type": "code",
   "execution_count": 44,
   "metadata": {},
   "outputs": [
    {
     "name": "stdout",
     "output_type": "stream",
     "text": [
      "Input:\n",
      "\n",
      "Enter no. of row(s) of matrix: \n",
      "2\n",
      "Enter no. of coloumn(s) of matrix: \n",
      "2\n",
      "Enter value of matrix: \n",
      "\n",
      "\tEnter value of Row- 1  - (every column value must be separated by space e.g. 3 5 5): \n",
      "4 7\n",
      "\tEnter value of Row- 2  - (every column value must be separated by space e.g. 3 5 5): \n",
      "-3 -5\n",
      "\n",
      "Output:\n",
      "determinant of matrix:  1.0\n"
     ]
    }
   ],
   "source": [
    "matrix = Matrix() #object of Matrix\n",
    "print (\"Input:\\n\")\n",
    "matrix.insertValues() #take value(s) of matrix\n",
    "deter_min = matrix.determinant() #determinant of matrix will assigned to deter_min if matrix is square matrix otherwise it will raise error\n",
    "print (\"\\nOutput:\\ndeterminant of matrix: \", deter_min)"
   ]
  },
  {
   "cell_type": "markdown",
   "metadata": {},
   "source": [
    "### 7. minor(self):\n",
    "\tThis is public function to calculate minor matrix of square matrix. It will only calculate minor if no. of row(s) and column(s) of Matrix is equal otherwise it will raise error. It will make a Matrix object to store minor matrix of given M X M matrix and return the minor matrix.\n",
    "Example:"
   ]
  },
  {
   "cell_type": "code",
   "execution_count": 52,
   "metadata": {},
   "outputs": [
    {
     "name": "stdout",
     "output_type": "stream",
     "text": [
      "Input:\n",
      "\n",
      "Enter no. of row(s) of matrix: \n",
      "2\n",
      "Enter no. of coloumn(s) of matrix: \n",
      "2\n",
      "Enter value of matrix: \n",
      "\n",
      "\tEnter value of Row- 1  - (every column value must be separated by space e.g. 3 5 5): \n",
      "3 5\n",
      "\tEnter value of Row- 2  - (every column value must be separated by space e.g. 3 5 5): \n",
      "-1 0\n",
      "\n",
      "Output:\n",
      "minor of matrix: \n",
      "\n",
      "Matrix contents: \n",
      "\n",
      "\t0.00     -1.00     \n",
      "\t5.00     3.00     \n"
     ]
    }
   ],
   "source": [
    "matrix = Matrix() #object of Matrix\n",
    "print (\"Input:\\n\")\n",
    "matrix.insertValues() #take value of matrix\n",
    "minorMatrix = Matrix() #objec of Matrix\n",
    "minorMatrix = matrix.minor() #it will assign minor matrix of matrix to minorMatrix if matrix is square matrix otherwise it will raise error\n",
    "print (\"\\nOutput:\\nminor of matrix: \")\n",
    "minorMatrix.display() #it will show minorMatrix after calculating minor matrix of matrix"
   ]
  },
  {
   "cell_type": "markdown",
   "metadata": {},
   "source": [
    "### 8. cofactor(self):\n",
    "\tThis is public function to calculate cofactor matrix of square matrix. It will only calculate cofactor if no. of row(s) and column(s) of Matrix is equal otherwise it will raise error. It will make a Matrix object to store cofactor of given M X M matrix and use minor() to calculate cofactor. It will return the cofactor matrix of M X M dimension.\n",
    "Example:"
   ]
  },
  {
   "cell_type": "code",
   "execution_count": 53,
   "metadata": {},
   "outputs": [
    {
     "name": "stdout",
     "output_type": "stream",
     "text": [
      "Input:\n",
      "\n",
      "Enter no. of row(s) of matrix: \n",
      "2\n",
      "Enter no. of coloumn(s) of matrix: \n",
      "2\n",
      "Enter value of matrix: \n",
      "\n",
      "\tEnter value of Row- 1  - (every column value must be separated by space e.g. 3 5 5): \n",
      "3 5\n",
      "\tEnter value of Row- 2  - (every column value must be separated by space e.g. 3 5 5): \n",
      "-1 0\n",
      "\n",
      "Output:\n",
      "cofactor of matrix:\n",
      "\n",
      "Matrix contents: \n",
      "\n",
      "\t0.00     1.00     \n",
      "\t-5.00     3.00     \n"
     ]
    }
   ],
   "source": [
    "matrix = Matrix() #object of Matrix\n",
    "print (\"Input:\\n\")\n",
    "matrix.insertValues() #take value(s) of matrix\n",
    "cofactorMatrix = Matrix() #object of Matrix\n",
    "cofactorMatrix = matrix.cofactor() #it will assign cofactor matrix of matrix to cofactorMatrix if matrix is square matrix otherwise it will raise error\n",
    "print (\"\\nOutput:\\ncofactor of matrix:\")\n",
    "cofactorMatrix.display() #it will show cofactorMatrix after calculating cofactor matrix of matrix"
   ]
  },
  {
   "cell_type": "markdown",
   "metadata": {},
   "source": [
    "### 9. adjoint(self):\n",
    "\tThis is public function to calculate adjoint matrix of square matrix. It will only calculate adjoint if no. of row(s) and column(s) of Matrix is equal otherwise it will raise error. It will return a matrix which is adjoint matrix of given M X M matrix, dimension of adjoint matrix same as dimension of given matrix. It used function traspose and cofactor to calculate adjoint.\n",
    "Example:"
   ]
  },
  {
   "cell_type": "code",
   "execution_count": 54,
   "metadata": {},
   "outputs": [
    {
     "name": "stdout",
     "output_type": "stream",
     "text": [
      "Input:\n",
      "\n",
      "Enter no. of row(s) of matrix: \n",
      "2\n",
      "Enter no. of coloumn(s) of matrix: \n",
      "2\n",
      "Enter value of matrix: \n",
      "\n",
      "\tEnter value of Row- 1  - (every column value must be separated by space e.g. 3 5 5): \n",
      "3 5\n",
      "\tEnter value of Row- 2  - (every column value must be separated by space e.g. 3 5 5): \n",
      "-1 0\n",
      "Output:\n",
      "adjoint of matrix:\n",
      "\n",
      "Matrix contents: \n",
      "\n",
      "\t0.00     -5.00     \n",
      "\t1.00     3.00     \n"
     ]
    }
   ],
   "source": [
    "matrix = Matrix() #object of Matrix\n",
    "print (\"Input:\\n\")\n",
    "matrix.insertValues() #take value(s) of matrix\n",
    "adjointMatrix = Matrix() #object of Matrix\n",
    "adjointMatrix = matrix.adjoint() #it will assign adjoint matrix of matrix to adjointMatrix if matrix is square matrix otherwise it will raise error\n",
    "print (\"Output:\\nadjoint of matrix:\")\n",
    "adjointMatrix.display() #it will show adjointMatrix after calculating adjoint matrix of matrix"
   ]
  },
  {
   "cell_type": "markdown",
   "metadata": {},
   "source": [
    "### 10. inverse(self):\n",
    "\tThis is public function to calculate inverse matrix of square matrix. It will only calculate inverse if no. of row(s) and column(s) of Matrix is equal otherwise it will raise error. It will return a matrix which is inverse of given M X M matrix. It will also raise error if Matrix is singular matrix as by mathematics rule - inverse of singular matrix doesn't exist.\n",
    "Example:"
   ]
  },
  {
   "cell_type": "code",
   "execution_count": 55,
   "metadata": {},
   "outputs": [
    {
     "name": "stdout",
     "output_type": "stream",
     "text": [
      "Input:\n",
      "\n",
      "Enter no. of row(s) of matrix: \n",
      "2\n",
      "Enter no. of coloumn(s) of matrix: \n",
      "2\n",
      "Enter value of matrix: \n",
      "\n",
      "\tEnter value of Row- 1  - (every column value must be separated by space e.g. 3 5 5): \n",
      "3 5\n",
      "\tEnter value of Row- 2  - (every column value must be separated by space e.g. 3 5 5): \n",
      "-1 0\n",
      "\n",
      "Output:\n",
      "inverse of matrix:\n",
      "\n",
      "Matrix contents: \n",
      "\n",
      "\t3.00     5.00     \n",
      "\t-1.00     0.00     \n"
     ]
    }
   ],
   "source": [
    "matrix = Matrix() #object of Matrix\n",
    "print (\"Input:\\n\")\n",
    "matrix.insertValues() #take value(s) of matrix\n",
    "inverseMatrix = Matrix() #object of Matrix\n",
    "inverseMatrix = matrix.inverse() #it will assign inverse matrix of matrix to inverseMatrix if matrix is square matrix and non-singular matrix otherwise it will raise error\n",
    "print (\"\\nOutput:\\ninverse of matrix:\")\n",
    "matrix.display() #it will show inverseMatrix after calculating inverse matrix of matrix"
   ]
  },
  {
   "cell_type": "markdown",
   "metadata": {},
   "source": [
    "### 11. trace(self):\n",
    "\tThis is public function to calculate trace of square matrix. It will onl calculate trace if no. or row(s) and column(s) of Matrix is equal otherwise it will raise error. It will return a value which summation of all diagonal value of square matrix called trace of square matrix.\n",
    "Example:"
   ]
  },
  {
   "cell_type": "code",
   "execution_count": 56,
   "metadata": {},
   "outputs": [
    {
     "name": "stdout",
     "output_type": "stream",
     "text": [
      "Input:\n",
      "\n",
      "Enter no. of row(s) of matrix: \n",
      "2\n",
      "Enter no. of coloumn(s) of matrix: \n",
      "2\n",
      "Enter value of matrix: \n",
      "\n",
      "\tEnter value of Row- 1  - (every column value must be separated by space e.g. 3 5 5): \n",
      "3 5\n",
      "\tEnter value of Row- 2  - (every column value must be separated by space e.g. 3 5 5): \n",
      "-1 0\n",
      "\n",
      "Ouput:\n",
      "\n",
      "trace of matrix:  3.0\n"
     ]
    }
   ],
   "source": [
    "matrix = Matrix() #object of Matrix\n",
    "print (\"Input:\\n\")\n",
    "matrix.insertValues() #take value(s) of matrix\n",
    "trace = matrix.trace() #it will assign trace value of matrix to trace if matrix is square matrix otherwise it will raise error\n",
    "print (\"\\nOuput:\\n\\ntrace of matrix: \",trace) #it will print trace of matrix"
   ]
  },
  {
   "cell_type": "markdown",
   "metadata": {},
   "source": [
    "### 12. isEmpty(self):\n",
    "\tThis is public function to check whether the no. of row(s) or no.of column(s) of matrix zero or not. If no. of row(s) or no. of column(s) of matrix is zero it will return True otherwise it will return False. It will generally used to check if real matrix is initialized or not.\n",
    "Example:"
   ]
  },
  {
   "cell_type": "code",
   "execution_count": 57,
   "metadata": {},
   "outputs": [
    {
     "name": "stdout",
     "output_type": "stream",
     "text": [
      "Output:\n",
      "\n",
      "Empty Matrix\n"
     ]
    }
   ],
   "source": [
    "matrix = Matrix() #object of Matrix\n",
    "print (\"Output:\\n\")\n",
    "if matrix.isEmpty():\n",
    "    print ('Empty Matrix') #it will print 'Empty Matrix' as dimension of matrix is not set yet"
   ]
  },
  {
   "cell_type": "markdown",
   "metadata": {},
   "source": [
    "### 13. isZeroMatrix(self):\n",
    "\tThis is public function to check whether matrix is zero matrix or null matrix. If all the values of matrix is zero it will return True otherwise return False but if matrix is empty it will return False.\n",
    "Example:"
   ]
  },
  {
   "cell_type": "code",
   "execution_count": 58,
   "metadata": {},
   "outputs": [
    {
     "name": "stdout",
     "output_type": "stream",
     "text": [
      "Output:\n",
      "\n",
      "Zero matrix\n"
     ]
    }
   ],
   "source": [
    "matrix = Matrix() #object of Matrix\n",
    "matrix.setDimension(3,3) #it will make zero matrix of  3 X 3\n",
    "print (\"Output:\\n\")\n",
    "if matrix.isZeroMatrix():\n",
    "    print ('Zero matrix') #it will print 'zero matrix' as matrix is zero matrix"
   ]
  },
  {
   "cell_type": "markdown",
   "metadata": {},
   "source": [
    "### 14. isOrthogonalMatrix(self):\n",
    "\tThis is public function to check whether matrix is orthogonal matrix or not but matrix should be square matrix otherwise it will raise error. If matrix is orthogonal matrix it will return True else it will return False.\n",
    "Example:"
   ]
  },
  {
   "cell_type": "code",
   "execution_count": 59,
   "metadata": {},
   "outputs": [
    {
     "name": "stdout",
     "output_type": "stream",
     "text": [
      "Input:\n",
      "\n",
      "Enter no. of row(s) of matrix: \n",
      "2\n",
      "Enter no. of coloumn(s) of matrix: \n",
      "2\n",
      "Enter value of matrix: \n",
      "\n",
      "\tEnter value of Row- 1  - (every column value must be separated by space e.g. 3 5 5): \n",
      "1 0\n",
      "\tEnter value of Row- 2  - (every column value must be separated by space e.g. 3 5 5): \n",
      "0 1\n",
      "\n",
      "Output:\n",
      "\n",
      "orthogonal matrix\n"
     ]
    }
   ],
   "source": [
    "matrix = Matrix() #object of Matrix\n",
    "print (\"Input:\\n\")\n",
    "matrix.insertValues() #take value(s) of matrix\n",
    "print (\"\\nOutput:\\n\")\n",
    "if matrix.isOrthogonalMatrix():\n",
    "    print ('orthogonal matrix') #it will print 'orthogonal matrix' if matrix is orthogonal"
   ]
  },
  {
   "cell_type": "markdown",
   "metadata": {},
   "source": [
    "### 15. isLTMatrix(self):\n",
    "\tThis is public function to check whether the matrix is lower triangular matrix or not but matrix should be square matrix otherwise it will raise error. If matrix is lower triangular matrix it will return True else it will return False.\n",
    "Example: "
   ]
  },
  {
   "cell_type": "code",
   "execution_count": 62,
   "metadata": {},
   "outputs": [
    {
     "name": "stdout",
     "output_type": "stream",
     "text": [
      "Input:\n",
      "\n",
      "Enter no. of row(s) of matrix: \n",
      "3\n",
      "Enter no. of coloumn(s) of matrix: \n",
      "3\n",
      "Enter value of matrix: \n",
      "\n",
      "\tEnter value of Row- 1  - (every column value must be separated by space e.g. 3 5 5): \n",
      "1 0 0\n",
      "\tEnter value of Row- 2  - (every column value must be separated by space e.g. 3 5 5): \n",
      "4 5 0\n",
      "\tEnter value of Row- 3  - (every column value must be separated by space e.g. 3 5 5): \n",
      "7 8 9\n",
      "\n",
      "Output:\n",
      "\n",
      "lower triangular matrix\n"
     ]
    }
   ],
   "source": [
    "matrix = Matrix() #object of Matrix\n",
    "print (\"Input:\\n\")\n",
    "matrix.insertValues() #take value(s) of matrix\n",
    "print (\"\\nOutput:\\n\")\n",
    "if matrix.isLTMatrix():\n",
    "    print ('lower triangular matrix') #it will print this if matrix is lower triangular and square matrix otherwise it will raise error"
   ]
  },
  {
   "cell_type": "markdown",
   "metadata": {},
   "source": [
    "### 16. isUTMatrix(self):\n",
    "\tThis is public functin to check whether the matrix is upper triangular matrix or not but matrix should be square matrix otherwise it will raise error. If matrix is upper triangular matrix it will return True else it will return False.\n",
    "Example:"
   ]
  },
  {
   "cell_type": "code",
   "execution_count": 63,
   "metadata": {},
   "outputs": [
    {
     "name": "stdout",
     "output_type": "stream",
     "text": [
      "Input:\n",
      "\n",
      "Enter no. of row(s) of matrix: \n",
      "3\n",
      "Enter no. of coloumn(s) of matrix: \n",
      "3\n",
      "Enter value of matrix: \n",
      "\n",
      "\tEnter value of Row- 1  - (every column value must be separated by space e.g. 3 5 5): \n",
      "1 2 3\n",
      "\tEnter value of Row- 2  - (every column value must be separated by space e.g. 3 5 5): \n",
      "0 5 6\n",
      "\tEnter value of Row- 3  - (every column value must be separated by space e.g. 3 5 5): \n",
      "0 0 9\n",
      "\n",
      "Output\n",
      "\n",
      "upper triangular matrix\n"
     ]
    }
   ],
   "source": [
    "matrix = Matrix() #object of Matrix\n",
    "print (\"Input:\\n\")\n",
    "matrix.insertValues() #take value(s) of matrix\n",
    "print (\"\\nOutput\\n\")\n",
    "if matrix.isUTMatrix():\n",
    "    print ('upper triangular matrix') #it will print this if matrix is upper traingular and square matrix otherwise it will raise error"
   ]
  },
  {
   "cell_type": "markdown",
   "metadata": {},
   "source": [
    "### 17. isTMatrix(self):\n",
    "\tThis is public function to check whether the matix is triangular matrix or not but matrix should be square matrix otherwise it will raise error. If matrix is upper triangular or lower triangular or both then it will return True otherwise it will return False\n",
    "Example:"
   ]
  },
  {
   "cell_type": "code",
   "execution_count": 64,
   "metadata": {},
   "outputs": [
    {
     "name": "stdout",
     "output_type": "stream",
     "text": [
      "Input:\n",
      "\n",
      "Enter no. of row(s) of matrix: \n",
      "3\n",
      "Enter no. of coloumn(s) of matrix: \n",
      "3\n",
      "Enter value of matrix: \n",
      "\n",
      "\tEnter value of Row- 1  - (every column value must be separated by space e.g. 3 5 5): \n",
      "1 0 0\n",
      "\tEnter value of Row- 2  - (every column value must be separated by space e.g. 3 5 5): \n",
      "0 1 0\n",
      "\tEnter value of Row- 3  - (every column value must be separated by space e.g. 3 5 5): \n",
      "0 0 1\n",
      "\n",
      "Output:\n",
      "\n",
      "triangular matrix\n"
     ]
    }
   ],
   "source": [
    "matrix = Matrix() #object of Matrix\n",
    "print (\"Input:\\n\")\n",
    "matrix.insertValues() #take value(s) of matrix\n",
    "print (\"\\nOutput:\\n\")\n",
    "if matrix.isTMatrix():\n",
    "    print ('triangular matrix') #it will print this if matrix is triangular and square matrix otherwise it will raise error"
   ]
  },
  {
   "cell_type": "markdown",
   "metadata": {},
   "source": [
    "### 18. isSquareMatrix(self):\n",
    "\tThis is public function to check whether the matrix is square matrix or not. If no. or row(s) and no. of column(s) of matrix is equal then it will return True otherwise it will return False.\n",
    "Example:"
   ]
  },
  {
   "cell_type": "code",
   "execution_count": 65,
   "metadata": {},
   "outputs": [
    {
     "name": "stdout",
     "output_type": "stream",
     "text": [
      "Output:\n",
      "\n",
      "Square Matrix\n"
     ]
    }
   ],
   "source": [
    "matrix = Matrix() #object of Matrix\n",
    "matrix.setDimension(3,3) #make zero matrix of 3 X 3\n",
    "print (\"Output:\\n\")\n",
    "if matrix.isSquareMatrix():\n",
    "    print ('Square Matrix') #it will print 'square matrix' as matrix is square matrix of dimension 3 X 3"
   ]
  },
  {
   "cell_type": "markdown",
   "metadata": {},
   "source": [
    "# Class SquareMatrix (represents square matrix of mathematics)"
   ]
  },
  {
   "cell_type": "markdown",
   "metadata": {},
   "source": [
    "This class is derived from Matrix class. It will give only functionality of square matrix. And if user want to restrict his/her program to make matrix other than square matrix then the SquareMatrix class can be used, it will always take care that matrix should be square matrix. One can also derive clss from SquareMatrix to give new functionality to SquareMatrix. All the protected and public members of Matrix class are inherited by SquareMatrix. It also override some functions of Matrix."
   ]
  },
  {
   "cell_type": "code",
   "execution_count": 18,
   "metadata": {},
   "outputs": [],
   "source": [
    "class SquareMatrix (Matrix):\n",
    "    'This class is used for Square Matrix manipulation and it is derived from Matrix'\n",
    "    #no need to define variable as the protected variable from class Matrix is get inherited\n",
    "    def insertValues(self):\n",
    "        'This function takes values of matrix and store it in list'\n",
    "        #getting dimension of square matrix\n",
    "        print(\"Enter dimension of square matrix:\", ' ')\n",
    "        self._row = int(input()) #taking and input and converting it into int type\n",
    "        if self._row == 0: #if entered dimension of Square matrix is zero\n",
    "            #raise SquareMatrixDimensionError to halt program as dimension of Square Matrix can not be zero\n",
    "            raise MatrixDimensionError(\"dimension of Square Matrix can not be zero.\")\n",
    "        self._col = self._row #setting no of the column(s) of square matrix\n",
    "        #now take input for given no. of row(s) and column(s)\n",
    "        print ('Enter value of matrix: \\n')\n",
    "        #using loop till all values of matrix are not entered!\n",
    "        for row in range(0, self._row):\n",
    "            print (\"\\tEnter value of Row-\",row+1, \" - (every column value must be separated by space e.g. 3 5 5): \")\n",
    "            value = input() #taking input of row\n",
    "            values = list(value.split(' ')) #splitting values for column(s)\n",
    "            while '' in values:\n",
    "                values.remove('')\n",
    "            if (len(values) != self._col): #if no of entered value(s) is not equal to no of column(s) of matrix\n",
    "                #raise MatrixColumnError to halt the program\n",
    "                raise MatrixColumnError(\"no of values must equal to the no of column(s) of matrix.\")\n",
    "            rowValue = []\n",
    "            try: #generate exception if value is not able to converted into floating numbers\n",
    "                for temp in range(0, self._col): #assigning values to the rowValue list by conveting it into floating numbers\n",
    "                    rowValue.append(float(values[temp]))\n",
    "            except ValueError:\n",
    "                raise MatrixValueError(\" matrix only except decimal or real number(s).\")\n",
    "            self._list.append(rowValue) #append entire rowValue to the main list of the Matrix as one row\n",
    "    #end of insertValue().....\n",
    "    \n",
    "    def setDimension(self, dim):\n",
    "        'This function is to set dimension of n X m matrix by user.'\n",
    "        #it will set matrix to row X col and set all values to zero\n",
    "        self._row = dim #setting no of row(s) of matrix\n",
    "        self._col = dim #stting no of column(s) of matrix\n",
    "        #setting all values to the zero or creating zero matrix\n",
    "        for i in range(0, self._row):\n",
    "            rowList = [] #temporary list to store values of row(s) of matrix\n",
    "            for j in range(0, self._col):\n",
    "                rowList.append(0) #assigning 0 to evry column of row(s)\n",
    "            self._list.append(rowList)\n",
    "    #end of setDimension().....\n",
    "#end of SquareMatrix "
   ]
  },
  {
   "cell_type": "markdown",
   "metadata": {
    "collapsed": true
   },
   "source": [
    "# Overidden methods of SquareMatrix"
   ]
  },
  {
   "cell_type": "markdown",
   "metadata": {},
   "source": [
    "### 1. insertValues(self):\n",
    "\tThis is public function inherited from Matrix and re-implemented by SquareMatrix to give new functionality to SquareMatrix. It gives functionality same as insertValues() in Matrix but ask for dimension of matrix not for no. of row(s) and no. of column(s) as no. of row(s) and column(s) in square matrix is same.\n",
    "Example:"
   ]
  },
  {
   "cell_type": "code",
   "execution_count": 66,
   "metadata": {},
   "outputs": [
    {
     "name": "stdout",
     "output_type": "stream",
     "text": [
      "Input:\n",
      "\n",
      "Enter no. of row(s) of matrix: \n",
      "3\n",
      "Enter no. of coloumn(s) of matrix: \n",
      "3\n",
      "Enter value of matrix: \n",
      "\n",
      "\tEnter value of Row- 1  - (every column value must be separated by space e.g. 3 5 5): \n",
      "2 3 4\n",
      "\tEnter value of Row- 2  - (every column value must be separated by space e.g. 3 5 5): \n",
      "3 4 5\n",
      "\tEnter value of Row- 3  - (every column value must be separated by space e.g. 3 5 5): \n",
      "6 7 8\n",
      "\n",
      "Output:\n",
      "\n",
      "\n",
      "Matrix contents: \n",
      "\n",
      "\t2.00     3.00     4.00     \n",
      "\t3.00     4.00     5.00     \n",
      "\t6.00     7.00     8.00     \n"
     ]
    }
   ],
   "source": [
    "matrix = Matrix() #object of SquareMatrix\n",
    "print (\"Input:\\n\")\n",
    "matrix.insertValues() #take value(s) of matrix\n",
    "print (\"\\nOutput:\\n\")\n",
    "matrix.display() #display matrix"
   ]
  },
  {
   "cell_type": "markdown",
   "metadata": {},
   "source": [
    "### 2. setDimension(self, dim):\n",
    "\tThis is public function inherited from Matrix and re-implemented by SquareMatrix and give the same functionality as setDimension() of Matrix besides it only take single argument to set dimension of SquareMatrix(). For more info see the setDimension() of Matrix.\n",
    "Example:"
   ]
  },
  {
   "cell_type": "code",
   "execution_count": 70,
   "metadata": {},
   "outputs": [
    {
     "name": "stdout",
     "output_type": "stream",
     "text": [
      "Output:\n",
      "\n",
      "\n",
      "Matrix contents: \n",
      "\n",
      "\t0.00     0.00     \n",
      "\t0.00     0.00     \n"
     ]
    }
   ],
   "source": [
    "matrix = SquareMatrix() #object of SquareMatrix\n",
    "matrix.setDimension(2) #it will make zero square matrix of dimension 2 X 2\n",
    "print (\"Output:\\n\")\n",
    "matrix.display() #it will display square matrix"
   ]
  },
  {
   "cell_type": "markdown",
   "metadata": {},
   "source": [
    "# Solution of system of linear equation using matrix (Matrix or SquareMatrix)"
   ]
  },
  {
   "cell_type": "markdown",
   "metadata": {},
   "source": [
    "solveLE is a function to solve system of linear equation(s) of more than one variable. It will take three arguments where first is matrix (it may be object of Matrix or SquareMatrix but if it is a object of Matrix, it's no. of row(s) and column(s) must be equal).It is the matrix of coefficient of variables of linear equations. Second argument is list of variables, it must contain only string type values. Third argument is list of right hand side values of linear equations.Third argument must be of list type and only contains int or float values. It will return a dictionary of values and variables where key is variable name and value is value of that variable after solving the system of linear equations."
   ]
  },
  {
   "cell_type": "code",
   "execution_count": 21,
   "metadata": {},
   "outputs": [],
   "source": [
    "def solveLE(matrix,varList,rtList):\n",
    "    'solveLE is a global function to solve system of linear equations using gauss elimination method.'\n",
    "    '''This function first making matrix an upper triangular matrix and then solve for each variable. It uses gauss elimination\n",
    "    method to do that. It will give error for below conditions:\n",
    "    1. matrix is empty\n",
    "    2. no. of row(s) or no. of column(s) of matrix is not same\n",
    "    3. matrix is neither object of Matrix nor of SquareMatrix\n",
    "    4. varList is not a list type or it is list type containing values other than string type\n",
    "    5. varList size is not equal to the no. of row(s) of matrix or to the no. of column(s) of matrix\n",
    "    6. rtList is not a list type or it is list type containing values other than int or float type\n",
    "    7. rtList size is not equal to the size of varList'''\n",
    "    if not (isinstance(matrix, Matrix)): #checking if matrix is instance of Matrix or not\n",
    "        #if it is not than raise NoMatrixFoundError to halt the program\n",
    "        raise NoMatrixFoundError(\"matrix is not type a of 'Matrix' or 'SquareMatrix'\")\n",
    "    if matrix.isEmpty(): #checking for matrix if it is empty or not\n",
    "        #raise EmptyMatrixError if matrix is empty to halt program execution\n",
    "        raise EmptyMatrixError(\"system of linear equations must contains one equation.\")\n",
    "    if not(matrix.isSquareMatrix()): #checking for matrix if it is square matrix or not\n",
    "        #raise NoSquareMatrixError to halt program if matrix is not square matrix\n",
    "        raise NoSquareMatrixError(\"matrix must be square matrix to solve system of linear equations.\")\n",
    "    if isinstance(varList, list): #checking if varList is type of list or not\n",
    "        for every in range(0, len(varList)): #visiting each and every elements or variables of varList\n",
    "            if not(isinstance(varList[every], str)): #checking if each element of varList is type of string or not\n",
    "                #if it is not a type of string then raise ValueError to halt the program\n",
    "                raise ValueError(\"variable(s) list must contain only str type value(s).\")\n",
    "    else: #if varList is not a type of list\n",
    "        #raise ValueError to halt program\n",
    "        raise ValueError(\"varList must be of list type.\")\n",
    "    dimList = matrix.getDimension() #getting dimension list of matrix\n",
    "    if dimList[0] != len(varList): #checking if size of varList is equal to dimension of square matrix or not\n",
    "        #if varList size is not equal to the dimension of matrix then raise MatrixDimensionError to halt program\n",
    "        raise MatrixDimensionError(\"dimension of matrix must be equal to the size of variable list.\")\n",
    "    if isinstance(rtList, list): #checking if rtList is type of list or not\n",
    "        for every in range(0, len(rtList)): #visiting each and every element(s) of rtList\n",
    "            if not(isinstance(rtList[every], (int, float))): #checking if each element of rtList is of type of other int and float or not\n",
    "                #if element is not a type of int or float then raise ValueError to halt program\n",
    "                raise ValueError(\"right hand side value(s) of equaton(s) must be int or float type only.\")\n",
    "    else: #if rtList is not a type of list\n",
    "        #raise ValueError to halt program\n",
    "        raise ValueError(\"rtList must be of list type.\")\n",
    "    if len(rtList) != len(varList): #checking if size of varList is equal to the size of rtList or not\n",
    "        #if size of rtList and varList is not equal than riase a MatrixDimensionError to halt program\n",
    "        raise MatrixDimensionError(\"dimension of matrix must be equal to the size of rtList.\")\n",
    "    for dig in  range(0, dimList[0]): #visiting every diagonal value of matrix\n",
    "        for row in range(dig+1, dimList[0]): #visiting every column element of matrix below diagonal for evert row of that column\n",
    "            kConst = matrix[row][dig] / matrix[dig][dig] #making a constant so whenever it mulplied to column value of any particular row than one value of row will equal to the value at row below diagonal(to make that column value for particular row to zero)\n",
    "            for col in range(0, dimList[1]): #visiting every column of particular row to make value(s) lower than diagonal to zero or to make matrix a upper triangular matrix\n",
    "                matrix[row][col] = matrix[row][col] - (matrix[dig][col] * kConst) #doing row operation in matrix\n",
    "            rtList[row] = rtList[row] - (rtList[dig] * kConst) #doing that same row operation on rtList\n",
    "    ansList = [] #empty list to store solution(s) of system of linear equaton(s)\n",
    "    for row in range(0, dimList[0]): #visiting every row of matrix\n",
    "        if row == 0: #if row is last (logically first) than append it directly by dividing it to rtList value for that same row\n",
    "            ansList.append(rtList[dimList[0]-1] / matrix[dimList[0]-1][dimList[0]-1])\n",
    "        else:\n",
    "            for col in range(0, row+1): #loop till equation will not get solved\n",
    "                if col == row: #solving equation(s) for every variable \n",
    "                    ansList.append(rtList[dimList[0]-1-row] / matrix[dimList[0]-1-row][dimList[0]-1-col])\n",
    "                else: #append value to ansList if only one variable is left in newely generated equation\n",
    "                    rtList[dimList[0]-1-row] = rtList[dimList[0]-1-row] - (matrix[dimList[0]-1-row][dimList[0]-1-col] * ansList[col])\n",
    "    ansDict = {} #empty dictionary of solution(s) of system of linear equation(s) where key is variable name and value is solved value of tha variable\n",
    "    for item in range(0, dimList[0]): #visiting every item of ansList and varList\n",
    "        ansDict[varList[item]] = ansList[dimList[0]-1-item] #assigning last value of ansList ot first value of varList and continuing to do so till all value(s) are not appends in dictionary\n",
    "    return ansDict #returns dictonary of solutions of system of linear equation(s)"
   ]
  },
  {
   "cell_type": "markdown",
   "metadata": {},
   "source": [
    "### To solve system of linear equations in three variables:\n",
    "    7x + 5y - 3z = 16\n",
    "    3x - 5y + 2z = -8\n",
    "    5x + 3y - 7y = 0\n",
    "now, solving this equation(s) using solveLE() function...\n",
    "##### make matrix of coefficient of variables:\n",
    "    7 5 -3\n",
    "    3 -5 2\n",
    "    5 3 -7\n",
    "##### make list of variables:\n",
    "    [x, y, z]\n",
    "##### make list of right hand side values:\n",
    "    [16, -8, 0]"
   ]
  },
  {
   "cell_type": "code",
   "execution_count": 23,
   "metadata": {},
   "outputs": [
    {
     "name": "stdout",
     "output_type": "stream",
     "text": [
      "Output:\n",
      "\n",
      "solution of linear equation(s):  {'x': 1.0, 'y': 3.0, 'z': 1.9999999999999996}\n",
      "x =  1.0\n",
      "y =  3.0\n",
      "z =  1.9999999999999996\n"
     ]
    }
   ],
   "source": [
    "matrix = SquareMatrix() #object of matrix\n",
    "matrix.setDimension(3) #setting dimension of matrix to 3 X 3\n",
    "matrix[0] = [7, 5, -3] #setting first row of matrix\n",
    "matrix[1] = [3, -5, 2] #setting second row of matrix\n",
    "matrix[2] = [5, 3, -7] #setting third row of matrix\n",
    "vList = ['x', 'y', 'z'] #setting list of variables\n",
    "rList = [16, -8, 0] #setting list of right hand side values\n",
    "aDict = solveLE(matrix, vList, rList) #solving system of linear equation(s)\n",
    "print (\"Output:\\n\")\n",
    "print (\"solution of linear equation(s): \", aDict)\n",
    "print (\"x = \", aDict['x'])\n",
    "print (\"y = \", aDict['y'])\n",
    "print (\"z = \", aDict['z'])"
   ]
  }
 ],
 "metadata": {
  "kernelspec": {
   "display_name": "Python 3",
   "language": "python",
   "name": "python3"
  },
  "language_info": {
   "codemirror_mode": {
    "name": "ipython",
    "version": 3
   },
   "file_extension": ".py",
   "mimetype": "text/x-python",
   "name": "python",
   "nbconvert_exporter": "python",
   "pygments_lexer": "ipython3",
   "version": "3.6.4"
  }
 },
 "nbformat": 4,
 "nbformat_minor": 2
}
