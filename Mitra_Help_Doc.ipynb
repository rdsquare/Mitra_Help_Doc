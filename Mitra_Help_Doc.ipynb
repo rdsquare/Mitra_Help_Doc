{
 "cells": [
  {
   "cell_type": "markdown",
   "metadata": {},
   "source": [
    "#                                                 Mitra:0.0.1 - Matrix library in python3\n",
    "\n",
    "Mitra is Matrix library in python for matematical Matrix opertions. It\n",
    "\tsupports python3 and any kind of OS (OS INDEPENDENT). Mitra is using object-\n",
    "\toriented approach to solve real world Matrix problem.\n",
    "\t\n",
    "\t\n",
    "\tSOME RESTRICTIONS:\n",
    "\t\tIt will not be applicable on any string or complex number Matrix \n",
    "\t\toperations. It will only be able to solve decimal number Matrix \n",
    "\t\toperations.\n",
    "\n",
    "\tFEATURES:\n",
    "\t\t1) It is able to perform all the basic operations of Matrix like\n",
    "\t\t(Transpose, Inverse, Multiplication, Addition) etc.\n",
    "\n",
    "\t\t2) It handles Matrix and Square Matrix differently.\n",
    "\n",
    "\t\t3) It can solve linear equation problem with defined global function.\n",
    "\n",
    "\n",
    "\tHELP DOCUMENT:\n",
    "\t\tTo get more detail on `how to use Mitra` library in python3, please\n",
    "\t\tdownload help document from Github using below link - \n",
    "\t\t <https://github.com/rdsquare/Mitra-Python-Library.git>\n",
    "\n",
    "\n",
    "#HOW TO INSTALL\n",
    "      **This is to download testing Mitra library**\n",
    "\t\n",
    "\tWINDOWS/MAC:\n",
    "\t\t1) check whether `python` command is running from terminal or not, using below command\n",
    "\t\t\t python --version\n",
    "\t\tif it is not running then set environment variables.\n",
    "\n",
    "\t\t2) Install pip on python3\n",
    "\t\t\t a) Get get-pip.py file from <https://bootstrap.pypa.io/get-pip.py>\n",
    "\t\t\t b) run `python3 get-pip.py` or `python get-pip.py` on terminal from the directory where\n",
    "\t\t\t    get-pip.py file is present.\n",
    "\n",
    "\t\t3) Type below command on terminal to install Mitra\n",
    "\t\t         python3 -m pip install --index-url https://test.pypi.org/simple/ Mitra\n",
    "\n",
    "\n",
    "\tLINUX:\n",
    "\t\t1) check whether `python` command is running from terminal or not, using below command\n",
    "\t\t\t $ python --version\n",
    "\t\tif it is not running then set environment variables.\n",
    "\n",
    "\t\t2) Install pip on python3\n",
    "\t\t\t a) Run below commands on terminal:\n",
    "\t\t\t\t$ wget https://bootstrap.pypa.io/get-pip.py\n",
    "\t\t\t\t$ sudo python get-pip.py\n",
    "\t\t\t\t         or\n",
    "\t\t\t\t$ sudo python3 get-pip.py\n",
    "\n",
    "\t\t3) Type below command on terminal to install Mitra\n",
    "\t\t         $ sudo python3 -m pip install --index-url https://test.pypi.org/simple/ Mitra"
   ]
  },
  {
   "cell_type": "markdown",
   "metadata": {},
   "source": [
    "#                              GNU GENERAL PUBLIC LICENSE\n",
    "    Mitra:0.0.1  Copyright (C) 2018  Rahul Dangi & Som Durgesh Gupta\n",
    "    \n",
    "    This program is distributed in the hope that it will be useful,\n",
    "    but WITHOUT ANY WARRANTY; without even the implied warranty of\n",
    "    MERCHANTABILITY or FITNESS FOR A PARTICULAR PURPOSE.  See the\n",
    "    GNU General Public License for more details.\n",
    "\n",
    "    You should have received a copy of the GNU General Public License\n",
    "    along with this program.  If not, see <https://www.gnu.org/licenses/>."
   ]
  },
  {
   "cell_type": "markdown",
   "metadata": {},
   "source": [
    "# Constructor & Operator overloading in Matrix"
   ]
  },
  {
   "cell_type": "markdown",
   "metadata": {},
   "source": [
    "### 1. __init__(self):\n",
    "\tThis is constructor of Matrix class. It is used to initialize the Matrix class. It will set no. of row(s) and column(s) of matrix to 0 and make a empty matrix. It will initialize the Matrix class but not initialize the real matrix (matrix must contain no. of row(s) and column(s) more than 0). To initialize mathematical matrix either call setDimension() or insertValues().\n",
    "Example:"
   ]
  },
  {
   "cell_type": "code",
   "execution_count": 1,
   "metadata": {},
   "outputs": [],
   "source": [
    "from Mitra import Matrix\n",
    "\n",
    "matrix = Matrix() #matrix is object of Matrix which is initialized using constructor"
   ]
  },
  {
   "cell_type": "code",
   "execution_count": 2,
   "metadata": {},
   "outputs": [
    {
     "name": "stdout",
     "output_type": "stream",
     "text": [
      "Output\n",
      "\n",
      "Matrix contents: \n",
      "\n",
      "\t0.00     0.00     0.00     \n",
      "\t1.00     2.00     3.00     \n",
      "\t0.00     0.00     2.00     \n"
     ]
    }
   ],
   "source": [
    "from Mitra import Matrix\n",
    "\n",
    "matrix = Matrix() #Matrix object\n",
    "matrix.setDimension(3,3) #make zero matrix of 3 X 3\n",
    "matrix[1] = [1,2,3] #it will set list of int to second row of matrix only if no. of value(s) in list is equal to the no. of column(s) of matrix\n",
    "matrix[2][2] = 2 #it will set value to third row and third column of matrix\n",
    "print (\"Output\")\n",
    "matrix.display() #it will show matrix"
   ]
  },
  {
   "cell_type": "markdown",
   "metadata": {},
   "source": [
    "### 3. __getitem__(self, key):\n",
    "\tThis is operator overloading of '[]' operator to get value(s) of matrix. It will return list of value(s) of particular row if single square bracket '[]' is used to get value(s) and will return value of particular column on particular row if double square bracket '[][]' is used to get value(s) of Matrix. If dimension of Matrix is not set or set to zero then it will give error as matrix is not initialized yet.\n",
    "Example:"
   ]
  },
  {
   "cell_type": "code",
   "execution_count": 3,
   "metadata": {},
   "outputs": [
    {
     "name": "stdout",
     "output_type": "stream",
     "text": [
      "Output:\n",
      "\n",
      "row 1 of matrix:\n",
      " [0, 0, 0]\n",
      "value at column 2 of row 2 of matrix:\n",
      " 0\n"
     ]
    }
   ],
   "source": [
    "from Mitra import Matrix\n",
    "\n",
    "matrix = Matrix() #object of Matrix\n",
    "matrix.setDimension(3,3) #it will make zero matrix of 3 X 3\n",
    "valueList = matrix[1] #it will return list value(s) of second row of matrix\n",
    "value = matrix[1][1] #it will return single value at second row and second column (second index will be used for selecting column)\n",
    "print (\"Output:\\n\\nrow 1 of matrix:\\n\",valueList) #print list of row 2 of matrix\n",
    "print (\"value at column 2 of row 2 of matrix:\\n\",value) #print value from second row and second column of matrix"
   ]
  },
  {
   "cell_type": "markdown",
   "metadata": {},
   "source": [
    "### 4. __mul__(self, other):\n",
    "\tThis is operator overloading of binary multiplication '*' operator to do multiplication of Matrix. It will multiply two Matrix object if no.of column(s) of first Matrix is equal to the no. of row(s) of second Matrix. It will multiply N X M and M X K matrices and return resultant of N X K dimension as per mathematics rule of matrix multiplication. It also gives functionality of multiplying matrix with scalar but if Matrix is first argument and sacalr is second argument.\n",
    "Example:"
   ]
  },
  {
   "cell_type": "code",
   "execution_count": 4,
   "metadata": {},
   "outputs": [
    {
     "name": "stdout",
     "output_type": "stream",
     "text": [
      "Input:\n",
      "input for matrix\n",
      "Enter no. of row(s) of matrix: \n",
      "2\n",
      "Enter no. of coloumn(s) of matrix: \n",
      "2\n",
      "Enter value of matrix: \n",
      "\n",
      "\tEnter value of Row- 1  - (every column value must be separated by space e.g. 3 5 5): \n",
      "3 5\n",
      "\tEnter value of Row- 2  - (every column value must be separated by space e.g. 3 5 5): \n",
      "6 7\n",
      "input for matrix_1\n",
      "Enter no. of row(s) of matrix: \n",
      "2\n",
      "Enter no. of coloumn(s) of matrix: \n",
      "2\n",
      "Enter value of matrix: \n",
      "\n",
      "\tEnter value of Row- 1  - (every column value must be separated by space e.g. 3 5 5): \n",
      "4 6\n",
      "\tEnter value of Row- 2  - (every column value must be separated by space e.g. 3 5 5): \n",
      "7 4\n",
      "\n",
      "Output\n",
      "\n",
      "Matrix after matrix * matrix_1\n",
      "\n",
      "Matrix contents: \n",
      "\n",
      "\t47.00     38.00     \n",
      "\t73.00     64.00     \n",
      "Matrix after matrix_1 * 2\n",
      "\n",
      "Matrix contents: \n",
      "\n",
      "\t8.00     12.00     \n",
      "\t14.00     8.00     \n"
     ]
    }
   ],
   "source": [
    "from Mitra import Matrix\n",
    "\n",
    "matrix = Matrix() #objet of Matrix\n",
    "matrix_1 = Matrix() #object of Matrix\n",
    "print (\"Input:\\ninput for matrix\")\n",
    "matrix.insertValues() #it will take value(s) for matrix\n",
    "print (\"input for matrix_1\")\n",
    "matrix_1.insertValues() #it will take value(s) for matrix_1\n",
    "matrix = matrix * matrix_1 #it will multiply both matrices if multiplication condition of row and column is satisfied.\n",
    "print (\"\\nOutput\\n\")\n",
    "print (\"Matrix after matrix * matrix_1\")\n",
    "matrix.display() #it will display matrix after multiplication\n",
    "matrix = matrix_1 * 2 #it will mulptiply matrix_1 with 2\n",
    "print (\"Matrix after matrix_1 * 2\")\n",
    "matrix.display() #it will display matrix_1 after scalar multiplication\n",
    "#matrix = 2 * matrix #this functionality will be handled by __rmul__() but user don't have to bother this as system will automatically take care of it"
   ]
  },
  {
   "cell_type": "markdown",
   "metadata": {},
   "source": [
    "### 5. __rmul__(self, other):\n",
    "\tThis is operator overloading of binary multiplication '*' operator to multiply Matrix with scalar if sacar is first argument and Matrix is second argument. This is automatically call by system if above condition is arise.\n",
    "Example:"
   ]
  },
  {
   "cell_type": "code",
   "execution_count": 5,
   "metadata": {},
   "outputs": [
    {
     "name": "stdout",
     "output_type": "stream",
     "text": [
      "Input:\n",
      "\n",
      "Enter no. of row(s) of matrix: \n",
      "2\n",
      "Enter no. of coloumn(s) of matrix: \n",
      "2\n",
      "Enter value of matrix: \n",
      "\n",
      "\tEnter value of Row- 1  - (every column value must be separated by space e.g. 3 5 5): \n",
      "1 7\n",
      "\tEnter value of Row- 2  - (every column value must be separated by space e.g. 3 5 5): \n",
      "5 2\n",
      "\n",
      "Output:\n",
      "matrix after 2 * matrix\n",
      "\n",
      "Matrix contents: \n",
      "\n",
      "\t16.00     24.00     \n",
      "\t28.00     16.00     \n"
     ]
    }
   ],
   "source": [
    "from Mitra import Matrix\n",
    "\n",
    "#### matrix = Matrix() #object of Matrix\n",
    "print (\"Input:\\n\")\n",
    "matrix.insertValues() #it will take value(s) for matrix\n",
    "matrix = 2 * matrix #by default system will call __rmul__() to implement this type of scalar product of matrix\n",
    "print (\"\\nOutput:\")\n",
    "print (\"matrix after 2 * matrix\")\n",
    "matrix.display() #it will display matrix after scalar multiplication"
   ]
  },
  {
   "cell_type": "markdown",
   "metadata": {},
   "source": [
    "### 6. __add__(self, other):\n",
    "\tThis is operator oveloading of binary plus '+' operator to add two Matrix of same dimension. Or to add scalar to Matrix. And will return the resultant after adding two matrices of same dimension.\n",
    "Example:"
   ]
  },
  {
   "cell_type": "code",
   "execution_count": 6,
   "metadata": {},
   "outputs": [
    {
     "name": "stdout",
     "output_type": "stream",
     "text": [
      "Input:\n",
      "input for matrix\n",
      "Enter no. of row(s) of matrix: \n",
      "2\n",
      "Enter no. of coloumn(s) of matrix: \n",
      "3\n",
      "Enter value of matrix: \n",
      "\n",
      "\tEnter value of Row- 1  - (every column value must be separated by space e.g. 3 5 5): \n",
      "2 3 4\n",
      "\tEnter value of Row- 2  - (every column value must be separated by space e.g. 3 5 5): \n",
      "5 6 7\n",
      "\n",
      "input for matrix_1\n",
      "Enter no. of row(s) of matrix: \n",
      "2\n",
      "Enter no. of coloumn(s) of matrix: \n",
      "3\n",
      "Enter value of matrix: \n",
      "\n",
      "\tEnter value of Row- 1  - (every column value must be separated by space e.g. 3 5 5): \n",
      "4 7 6\n",
      "\tEnter value of Row- 2  - (every column value must be separated by space e.g. 3 5 5): \n",
      "6 3 8\n",
      "\n",
      "Output:\n",
      "matrix aftr matrix + matrix_1\n",
      "\n",
      "Matrix contents: \n",
      "\n",
      "\t6.00     10.00     10.00     \n",
      "\t11.00     9.00     15.00     \n",
      "\n",
      "matrix after matrix_1 + 2\n",
      "\n",
      "Matrix contents: \n",
      "\n",
      "\t6.00     9.00     8.00     \n",
      "\t8.00     5.00     10.00     \n"
     ]
    }
   ],
   "source": [
    "from Mitra import Matrix\n",
    "\n",
    "matrix = Matrix() #object of Matrix\n",
    "matrix_1 = Matrix() #object of Matrix\n",
    "print (\"Input:\\ninput for matrix\")\n",
    "matrix.insertValues() #it will take value(s) of matrix\n",
    "print (\"\\ninput for matrix_1\")\n",
    "matrix_1.insertValues() #it will take value(s) of matrix_1\n",
    "matrix = matrix + matrix_1 #it will add matrix and matrix_1 if both are of same dimension\n",
    "print (\"\\nOutput:\\nmatrix aftr matrix + matrix_1\")\n",
    "matrix.display() #it will display matrix after addition\n",
    "matrix = matrix_1 + 2 #it will add 2 to matrix_1 (as scalar can be added to matrix)\n",
    "print (\"\\nmatrix after matrix_1 + 2\")\n",
    "matrix.display() #it will display matrix after scalar addition\n",
    "#matrix = 2 + matrix_1 #this functionality will be handled by __radd__() but system will automatically take care of it."
   ]
  },
  {
   "cell_type": "markdown",
   "metadata": {},
   "source": [
    "### 7. __radd__(self, other):\n",
    "    This is operator oveloading of binary plus '+' operator to show error if user is trying to add matrix to scalar as from mathematics rule of addition of matrix - matrix can not be added to scalar.\n",
    "Example:"
   ]
  },
  {
   "cell_type": "code",
   "execution_count": 7,
   "metadata": {},
   "outputs": [
    {
     "ename": "MatrixAdditionError",
     "evalue": "matrix can not be added to the scalar.",
     "output_type": "error",
     "traceback": [
      "\u001b[0;31m---------------------------------------------------------------------------\u001b[0m",
      "\u001b[0;31mMatrixAdditionError\u001b[0m                       Traceback (most recent call last)",
      "\u001b[0;32m<ipython-input-7-ec1fb41cc960>\u001b[0m in \u001b[0;36m<module>\u001b[0;34m()\u001b[0m\n\u001b[1;32m      2\u001b[0m \u001b[0;34m\u001b[0m\u001b[0m\n\u001b[1;32m      3\u001b[0m \u001b[0mmatrix\u001b[0m \u001b[0;34m=\u001b[0m \u001b[0mMatrix\u001b[0m\u001b[0;34m(\u001b[0m\u001b[0;34m)\u001b[0m \u001b[0;31m#object of Matrix\u001b[0m\u001b[0;34m\u001b[0m\u001b[0m\n\u001b[0;32m----> 4\u001b[0;31m \u001b[0mmatrix\u001b[0m \u001b[0;34m=\u001b[0m \u001b[0;36m2\u001b[0m \u001b[0;34m+\u001b[0m \u001b[0mmatrix\u001b[0m \u001b[0;31m#it will give error (matrix can not be added to scalar while scalar can be added to matrix)\u001b[0m\u001b[0;34m\u001b[0m\u001b[0m\n\u001b[0m",
      "\u001b[0;32m~/anaconda3/lib/python3.6/Mitra/__init__.py\u001b[0m in \u001b[0;36m__radd__\u001b[0;34m(self, other)\u001b[0m\n\u001b[1;32m    202\u001b[0m     \u001b[0;32mdef\u001b[0m \u001b[0m__radd__\u001b[0m\u001b[0;34m(\u001b[0m\u001b[0mself\u001b[0m\u001b[0;34m,\u001b[0m \u001b[0mother\u001b[0m\u001b[0;34m)\u001b[0m\u001b[0;34m:\u001b[0m\u001b[0;34m\u001b[0m\u001b[0m\n\u001b[1;32m    203\u001b[0m         \u001b[0;34m'This is operator overloading to prevent user to add matrix to the scalar.'\u001b[0m\u001b[0;34m\u001b[0m\u001b[0m\n\u001b[0;32m--> 204\u001b[0;31m         \u001b[0;32mraise\u001b[0m \u001b[0mMatrixAdditionError\u001b[0m\u001b[0;34m(\u001b[0m\u001b[0;34m\"matrix can not be added to the scalar.\"\u001b[0m\u001b[0;34m)\u001b[0m\u001b[0;34m\u001b[0m\u001b[0m\n\u001b[0m\u001b[1;32m    205\u001b[0m \u001b[0;34m\u001b[0m\u001b[0m\n\u001b[1;32m    206\u001b[0m     \u001b[0;32mdef\u001b[0m \u001b[0m__sub__\u001b[0m\u001b[0;34m(\u001b[0m\u001b[0mself\u001b[0m\u001b[0;34m,\u001b[0m \u001b[0mother\u001b[0m\u001b[0;34m)\u001b[0m\u001b[0;34m:\u001b[0m\u001b[0;34m\u001b[0m\u001b[0m\n",
      "\u001b[0;31mMatrixAdditionError\u001b[0m: matrix can not be added to the scalar."
     ]
    }
   ],
   "source": [
    "from Mitra import Matrix\n",
    "\n",
    "matrix = Matrix() #object of Matrix\n",
    "matrix = 2 + matrix #it will give error (matrix can not be added to scalar while scalar can be added to matrix)"
   ]
  },
  {
   "cell_type": "markdown",
   "metadata": {},
   "source": [
    "### 8. __sub__(self, other):\n",
    "\tThis is overloading of binary minus '-' operator to subtract a matrix from another matrix if both are of same dimension. Or to subtract scalar from any Matrix. It will return the resultant after performing subtraction operation on matrix.\n",
    "Example:"
   ]
  },
  {
   "cell_type": "code",
   "execution_count": 8,
   "metadata": {},
   "outputs": [
    {
     "name": "stdout",
     "output_type": "stream",
     "text": [
      "Input:\n",
      "input for matrix:\n",
      "Enter no. of row(s) of matrix: \n",
      "3\n",
      "Enter no. of coloumn(s) of matrix: \n",
      "3\n",
      "Enter value of matrix: \n",
      "\n",
      "\tEnter value of Row- 1  - (every column value must be separated by space e.g. 3 5 5): \n",
      "6 7 5\n",
      "\tEnter value of Row- 2  - (every column value must be separated by space e.g. 3 5 5): \n",
      "8 5 8\n",
      "\tEnter value of Row- 3  - (every column value must be separated by space e.g. 3 5 5): \n",
      "3 7 5\n",
      "\n",
      "input for matrix_1:\n",
      "Enter no. of row(s) of matrix: \n",
      "3\n",
      "Enter no. of coloumn(s) of matrix: \n",
      "3\n",
      "Enter value of matrix: \n",
      "\n",
      "\tEnter value of Row- 1  - (every column value must be separated by space e.g. 3 5 5): \n",
      "2 8 5\n",
      "\tEnter value of Row- 2  - (every column value must be separated by space e.g. 3 5 5): \n",
      "3 8 5\n",
      "\tEnter value of Row- 3  - (every column value must be separated by space e.g. 3 5 5): \n",
      "4 8 6\n",
      "\n",
      "Output:\n",
      "matrix after matrix - matrix_1\n",
      "\n",
      "Matrix contents: \n",
      "\n",
      "\t4.00     -1.00     0.00     \n",
      "\t5.00     -3.00     3.00     \n",
      "\t-1.00     -1.00     -1.00     \n",
      "\n",
      "matrix after matrix_1 - 2:\n",
      "\n",
      "Matrix contents: \n",
      "\n",
      "\t0.00     6.00     3.00     \n",
      "\t1.00     6.00     3.00     \n",
      "\t2.00     6.00     4.00     \n"
     ]
    }
   ],
   "source": [
    "from Mitra import Matrix\n",
    "\n",
    "matrix = Matrix() #object of Matrix\n",
    "matrix_1 = Matrix() #object of Matrix\n",
    "print (\"Input:\\ninput for matrix:\")\n",
    "matrix.insertValues() #take value(s) for matrix\n",
    "print (\"\\ninput for matrix_1:\")\n",
    "matrix_1.insertValues() #take value(s) for matrix_1\n",
    "matrix = matrix - matrix_1 #it will subtract matrix_1 from matrix if both are of same dimension\n",
    "print (\"\\nOutput:\\nmatrix after matrix - matrix_1\")\n",
    "matrix.display() #it will display matrix after subtraction operation\n",
    "matrix = matrix_1 - 2 #it will subtract 2 from matrix_1 (scalar can be subtracted from matrix)\n",
    "print (\"\\nmatrix after matrix_1 - 2:\")\n",
    "matrix.display() #it will display matrix after scalar subtraction\n",
    "#matrix = 2 - matrix_1 #this functionality will be implemented by __rsub__() but system will automatically take care of it"
   ]
  },
  {
   "cell_type": "markdown",
   "metadata": {},
   "source": [
    "### 9. __rsub__(self, other):\n",
    "\tThis is overloading of binary minu '-' operator to subtract matrix from scalar but as per mathematics rule of matrix subtraction - matrix can not be subtracted from any scalar quantity. So, it will always raise error if one trying to subtract matrix from scalar.\n",
    "Example:"
   ]
  },
  {
   "cell_type": "code",
   "execution_count": 9,
   "metadata": {},
   "outputs": [
    {
     "ename": "MatrixSubtractionError",
     "evalue": "matrix can not be subtracted from scalar.",
     "output_type": "error",
     "traceback": [
      "\u001b[0;31m---------------------------------------------------------------------------\u001b[0m",
      "\u001b[0;31mMatrixSubtractionError\u001b[0m                    Traceback (most recent call last)",
      "\u001b[0;32m<ipython-input-9-d2216c59ae85>\u001b[0m in \u001b[0;36m<module>\u001b[0;34m()\u001b[0m\n\u001b[1;32m      3\u001b[0m \u001b[0mmatrix\u001b[0m \u001b[0;34m=\u001b[0m \u001b[0mMatrix\u001b[0m\u001b[0;34m(\u001b[0m\u001b[0;34m)\u001b[0m \u001b[0;31m#object of Matrix\u001b[0m\u001b[0;34m\u001b[0m\u001b[0m\n\u001b[1;32m      4\u001b[0m \u001b[0mmatrix\u001b[0m\u001b[0;34m.\u001b[0m\u001b[0msetDimension\u001b[0m\u001b[0;34m(\u001b[0m\u001b[0;36m3\u001b[0m\u001b[0;34m,\u001b[0m\u001b[0;36m3\u001b[0m\u001b[0;34m)\u001b[0m \u001b[0;31m#it will make zero matrix of 3 X 3\u001b[0m\u001b[0;34m\u001b[0m\u001b[0m\n\u001b[0;32m----> 5\u001b[0;31m \u001b[0mmatrix\u001b[0m \u001b[0;34m=\u001b[0m \u001b[0;36m2\u001b[0m \u001b[0;34m-\u001b[0m \u001b[0mmatrix\u001b[0m \u001b[0;31m#it will raise error (matrix can not be subtracted from scalar while scalar can be subtracted from matrix)\u001b[0m\u001b[0;34m\u001b[0m\u001b[0m\n\u001b[0m",
      "\u001b[0;32m~/anaconda3/lib/python3.6/Mitra/__init__.py\u001b[0m in \u001b[0;36m__rsub__\u001b[0;34m(self, other)\u001b[0m\n\u001b[1;32m    234\u001b[0m     \u001b[0;32mdef\u001b[0m \u001b[0m__rsub__\u001b[0m\u001b[0;34m(\u001b[0m\u001b[0mself\u001b[0m\u001b[0;34m,\u001b[0m \u001b[0mother\u001b[0m\u001b[0;34m)\u001b[0m\u001b[0;34m:\u001b[0m\u001b[0;34m\u001b[0m\u001b[0m\n\u001b[1;32m    235\u001b[0m         \u001b[0;34m'This is operator overloading to prevent user to subtract matrix from scalar value.'\u001b[0m\u001b[0;34m\u001b[0m\u001b[0m\n\u001b[0;32m--> 236\u001b[0;31m         \u001b[0;32mraise\u001b[0m \u001b[0mMatrixSubtractionError\u001b[0m\u001b[0;34m(\u001b[0m\u001b[0;34m\"matrix can not be subtracted from scalar.\"\u001b[0m\u001b[0;34m)\u001b[0m\u001b[0;34m\u001b[0m\u001b[0m\n\u001b[0m\u001b[1;32m    237\u001b[0m \u001b[0;34m\u001b[0m\u001b[0m\n\u001b[1;32m    238\u001b[0m     \u001b[0;32mdef\u001b[0m \u001b[0m__eq__\u001b[0m\u001b[0;34m(\u001b[0m\u001b[0mself\u001b[0m\u001b[0;34m,\u001b[0m\u001b[0mother\u001b[0m\u001b[0;34m)\u001b[0m\u001b[0;34m:\u001b[0m\u001b[0;34m\u001b[0m\u001b[0m\n",
      "\u001b[0;31mMatrixSubtractionError\u001b[0m: matrix can not be subtracted from scalar."
     ]
    }
   ],
   "source": [
    "from Mitra import Matrix\n",
    "\n",
    "matrix = Matrix() #object of Matrix\n",
    "matrix.setDimension(3,3) #it will make zero matrix of 3 X 3\n",
    "matrix = 2 - matrix #it will raise error (matrix can not be subtracted from scalar while scalar can be subtracted from matrix)"
   ]
  },
  {
   "cell_type": "markdown",
   "metadata": {},
   "source": [
    "### 10. __eq__(self, other):\n",
    "\tThis is overloading of equality comparision '==' operator to check whether two Matrix are equal or not. If given two Matrix are equal it will return True otherwise it will return false. Equality will be checked as per rule of mathematics of equaliy of two matrices.\n",
    "Example:"
   ]
  },
  {
   "cell_type": "code",
   "execution_count": 11,
   "metadata": {},
   "outputs": [
    {
     "name": "stdout",
     "output_type": "stream",
     "text": [
      "Input:\n",
      "input for matrix:\n",
      "Enter no. of row(s) of matrix: \n",
      "2\n",
      "Enter no. of coloumn(s) of matrix: \n",
      "2\n",
      "Enter value of matrix: \n",
      "\n",
      "\tEnter value of Row- 1  - (every column value must be separated by space e.g. 3 5 5): \n",
      "3 6\n",
      "\tEnter value of Row- 2  - (every column value must be separated by space e.g. 3 5 5): \n",
      "4 7\n",
      "\n",
      "input for matrix_1:\n",
      "Enter no. of row(s) of matrix: \n",
      "2\n",
      "Enter no. of coloumn(s) of matrix: \n",
      "2\n",
      "Enter value of matrix: \n",
      "\n",
      "\tEnter value of Row- 1  - (every column value must be separated by space e.g. 3 5 5): \n",
      "3 6\n",
      "\tEnter value of Row- 2  - (every column value must be separated by space e.g. 3 5 5): \n",
      "4 7\n",
      "\n",
      "Ouput:\n",
      "\n",
      "matrices are equal\n"
     ]
    }
   ],
   "source": [
    "from Mitra import Matrix\n",
    "\n",
    "matrix = Matrix() #object of Matrix\n",
    "matrix_1 = Matrix() #object of Matrix\n",
    "print (\"Input:\\ninput for matrix:\")\n",
    "matrix.insertValues() #it will take value(s) of matrix\n",
    "print (\"\\ninput for matrix_1:\")\n",
    "matrix_1.insertValues() #it will take value(s) of matrix_1\n",
    "print (\"\\nOuput:\\n\")\n",
    "if matrix == matrix_1:\n",
    "    print (\"matrices are equal\") #it will be printed if both the matrices are equal"
   ]
  },
  {
   "cell_type": "markdown",
   "metadata": {},
   "source": [
    "### 11. __ne__(self, other):\n",
    "\tThis is overloading of inequalit comparision '!=' or \"<>\" operator to check whether two Matrix are equal or not. If given tow Matrix are equal it will return False otherwise it will return true. Equality will be checked as per rule of mathematics of equality of two matrices.\n",
    "Example:"
   ]
  },
  {
   "cell_type": "code",
   "execution_count": 12,
   "metadata": {},
   "outputs": [
    {
     "name": "stdout",
     "output_type": "stream",
     "text": [
      "Input:\n",
      "input for matrix:\n",
      "Enter no. of row(s) of matrix: \n",
      "3\n",
      "Enter no. of coloumn(s) of matrix: \n",
      "3\n",
      "Enter value of matrix: \n",
      "\n",
      "\tEnter value of Row- 1  - (every column value must be separated by space e.g. 3 5 5): \n",
      "2 5 4\n",
      "\tEnter value of Row- 2  - (every column value must be separated by space e.g. 3 5 5): \n",
      "3 6 5\n",
      "\tEnter value of Row- 3  - (every column value must be separated by space e.g. 3 5 5): \n",
      "6 8 5\n",
      "\n",
      "input for matrix_1:\n",
      "Enter no. of row(s) of matrix: \n",
      "3\n",
      "Enter no. of coloumn(s) of matrix: \n",
      "3\n",
      "Enter value of matrix: \n",
      "\n",
      "\tEnter value of Row- 1  - (every column value must be separated by space e.g. 3 5 5): \n",
      "2 5 3\n",
      "\tEnter value of Row- 2  - (every column value must be separated by space e.g. 3 5 5): \n",
      "3 2 6\n",
      "\tEnter value of Row- 3  - (every column value must be separated by space e.g. 3 5 5): \n",
      "4 3 6\n",
      "\n",
      "Ouput:\n",
      "\n",
      "matrices are not equal\n"
     ]
    }
   ],
   "source": [
    "from Mitra import Matrix\n",
    "\n",
    "matrix = Matrix() #object of Matrix\n",
    "matrix_1 = Matrix() #object of Matrix\n",
    "print (\"Input:\\ninput for matrix:\")\n",
    "matrix.insertValues() #it will take value(s) of matrix\n",
    "print (\"\\ninput for matrix_1:\")\n",
    "matrix_1.insertValues() #it will take value(s) of matrix_1\n",
    "print (\"\\nOuput:\\n\")\n",
    "if matrix != matrix_1:\n",
    "    print ('matrices are not equal') #it will be printed if both the matrices are not equal"
   ]
  },
  {
   "cell_type": "markdown",
   "metadata": {},
   "source": [
    "### 12. __pow__(self, other):\n",
    "\tThis is operator overloading of power '**' operator to find power of square matrix. If no. of row(s) and no. of column(s) of Matrix are equal than this will find power of Matrix otherwise it will give error. It is using property of associvity of multiplication of matrices to find Nth power of square matrix. It will return the resultant of Nth power of square matrix.\n",
    "Example:"
   ]
  },
  {
   "cell_type": "code",
   "execution_count": 13,
   "metadata": {},
   "outputs": [
    {
     "name": "stdout",
     "output_type": "stream",
     "text": [
      "Input:\n",
      "input for matrix:\n",
      "Enter no. of row(s) of matrix: \n",
      "3\n",
      "Enter no. of coloumn(s) of matrix: \n",
      "3\n",
      "Enter value of matrix: \n",
      "\n",
      "\tEnter value of Row- 1  - (every column value must be separated by space e.g. 3 5 5): \n",
      "2 6 4\n",
      "\tEnter value of Row- 2  - (every column value must be separated by space e.g. 3 5 5): \n",
      "4 7 5\n",
      "\tEnter value of Row- 3  - (every column value must be separated by space e.g. 3 5 5): \n",
      "6 3 9\n",
      "\n",
      "Output: \n",
      "matrix after matrix ** 2:\n",
      "\n",
      "Matrix contents: \n",
      "\n",
      "\t52.00     66.00     74.00     \n",
      "\t66.00     88.00     96.00     \n",
      "\t78.00     84.00     120.00     \n"
     ]
    }
   ],
   "source": [
    "from Mitra import Matrix\n",
    "\n",
    "matrix = Matrix() #object of Matrix\n",
    "print (\"Input:\\ninput for matrix:\")\n",
    "matrix.insertValues() #it will take value(s) of matrix\n",
    "matrix = matrix ** 2 #if matrix is square matrix then it will return the square of given square matrix\n",
    "print (\"\\nOutput: \\nmatrix after matrix ** 2:\")\n",
    "matrix.display() #it will display matrix after calculating square of square matrix"
   ]
  },
  {
   "cell_type": "markdown",
   "metadata": {},
   "source": [
    "# Public method(s) of Matrix class"
   ]
  },
  {
   "cell_type": "markdown",
   "metadata": {},
   "source": [
    "### 1. insertValues(self):\n",
    "\tThis is public function used to take value of Matrix in well shaped format or give some easy functionality to set value to Matrix. It will handle error in it's own way. It will take value(s) of a single row at same time in which value(s) of column(s) are separated by space. It is also used to initialized real matrix after constructor\n",
    "Example: "
   ]
  },
  {
   "cell_type": "code",
   "execution_count": 14,
   "metadata": {},
   "outputs": [
    {
     "name": "stdout",
     "output_type": "stream",
     "text": [
      "Input:\n",
      "\n",
      "Enter no. of row(s) of matrix: \n",
      "2\n",
      "Enter no. of coloumn(s) of matrix: \n",
      "2\n",
      "Enter value of matrix: \n",
      "\n",
      "\tEnter value of Row- 1  - (every column value must be separated by space e.g. 3 5 5): \n",
      "3 5\n",
      "\tEnter value of Row- 2  - (every column value must be separated by space e.g. 3 5 5): \n",
      "4 5\n",
      "\n",
      "Output:\n",
      "\n",
      "\n",
      "Matrix contents: \n",
      "\n",
      "\t3.00     5.00     \n",
      "\t4.00     5.00     \n"
     ]
    }
   ],
   "source": [
    "from Mitra import Matrix\n",
    "\n",
    "matrix = Matrix() #object of Matrix\n",
    "print (\"Input:\\n\")\n",
    "matrix.insertValues() #used to take dimension and value(s) of matrix\n",
    "print (\"\\nOutput:\\n\")\n",
    "matrix.display() #it will show the entered matrix"
   ]
  },
  {
   "cell_type": "markdown",
   "metadata": {},
   "source": [
    "### 2. setDimension(self, row, col):\n",
    "\tThis is public function used to set no. of row(s) and no. of column(s) of Matrix. And make zero matrix of entered dimension. It is also used to initialized real matrix after constuctor\n",
    "Example:"
   ]
  },
  {
   "cell_type": "code",
   "execution_count": 15,
   "metadata": {},
   "outputs": [
    {
     "name": "stdout",
     "output_type": "stream",
     "text": [
      "Output:\n",
      "\n",
      "\n",
      "Matrix contents: \n",
      "\n",
      "\t0.00     0.00     0.00     \n",
      "\t0.00     0.00     0.00     \n"
     ]
    }
   ],
   "source": [
    "from Mitra import Matrix\n",
    "\n",
    "matrix = Matrix() #oject of Matrix\n",
    "matrix.setDimension(2,3) #it will set 2 rows and 3 columns and set all value(s) to zero or make zero matrix.\n",
    "print (\"Output:\\n\")\n",
    "matrix.display() #it will display matrix"
   ]
  },
  {
   "cell_type": "markdown",
   "metadata": {},
   "source": [
    "### 3. getDimension(self):\n",
    "\tThis is public function used to get dimension of Matrix. It will return list of 2 elements where first element is no. of row(s) and second element is no. of column(s) of Matrix.\n",
    "Example:"
   ]
  },
  {
   "cell_type": "code",
   "execution_count": 16,
   "metadata": {},
   "outputs": [
    {
     "name": "stdout",
     "output_type": "stream",
     "text": [
      "Output:\n",
      "\n",
      "dimension list =  [2, 3]\n"
     ]
    }
   ],
   "source": [
    "from Mitra import Matrix\n",
    "\n",
    "matrix = Matrix() #object of Matrix\n",
    "matrix.setDimension(2,3) #it will set dimension of matrix or make zero matrix of 2 X 3\n",
    "dimensionList = matrix.getDimension() #it will return dimension list of matrix\n",
    "print (\"Output:\\n\\ndimension list = \", dimensionList)"
   ]
  },
  {
   "cell_type": "markdown",
   "metadata": {},
   "source": [
    "### 4. display(self):\n",
    "\tThis is public function used to manipulate the Matrix value(s) and display the value(s) of Matrix in real matrix format. If matrix doesn't have value(s) it will print 'Matrix is empty'\n",
    "Example:"
   ]
  },
  {
   "cell_type": "code",
   "execution_count": 17,
   "metadata": {},
   "outputs": [
    {
     "name": "stdout",
     "output_type": "stream",
     "text": [
      "Input:\n",
      "\n",
      "Enter no. of row(s) of matrix: \n",
      "2\n",
      "Enter no. of coloumn(s) of matrix: \n",
      "3\n",
      "Enter value of matrix: \n",
      "\n",
      "\tEnter value of Row- 1  - (every column value must be separated by space e.g. 3 5 5): \n",
      "4 5 6\n",
      "\tEnter value of Row- 2  - (every column value must be separated by space e.g. 3 5 5): \n",
      "5 6 7\n",
      "\n",
      "Output:\n",
      "\n",
      "\n",
      "Matrix contents: \n",
      "\n",
      "\t4.00     5.00     6.00     \n",
      "\t5.00     6.00     7.00     \n"
     ]
    }
   ],
   "source": [
    "from Mitra import Matrix\n",
    "\n",
    "matrix = Matrix() #object of Matrix\n",
    "print (\"Input:\\n\")\n",
    "matrix.insertValues() #it will take value(s) of matrix\n",
    "print (\"\\nOutput:\\n\")\n",
    "matrix.display() #it will display the value(s) of matrix"
   ]
  },
  {
   "cell_type": "markdown",
   "metadata": {},
   "source": [
    "### 5. transpose(self):\n",
    "\tThis is public function to calculate transpose of Matrix and if matrix is of N X M dimension then it will return M X N dimension matrix which is transpose of given matrix.\n",
    "Example:"
   ]
  },
  {
   "cell_type": "code",
   "execution_count": 18,
   "metadata": {},
   "outputs": [
    {
     "name": "stdout",
     "output_type": "stream",
     "text": [
      "Input:\n",
      "\n",
      "Enter no. of row(s) of matrix: \n",
      "3\n",
      "Enter no. of coloumn(s) of matrix: \n",
      "3\n",
      "Enter value of matrix: \n",
      "\n",
      "\tEnter value of Row- 1  - (every column value must be separated by space e.g. 3 5 5): \n",
      "23 4 5\n",
      "\tEnter value of Row- 2  - (every column value must be separated by space e.g. 3 5 5): \n",
      "3 6 4\n",
      "\tEnter value of Row- 3  - (every column value must be separated by space e.g. 3 5 5): \n",
      "6 7 0\n",
      "\n",
      "Output:\n",
      "transpose of matrix:\n",
      "\n",
      "Matrix contents: \n",
      "\n",
      "\t23.00     3.00     6.00     \n",
      "\t4.00     6.00     7.00     \n",
      "\t5.00     4.00     0.00     \n"
     ]
    }
   ],
   "source": [
    "from Mitra import Matrix\n",
    "\n",
    "matrix = Matrix() #object of Matrix\n",
    "print (\"Input:\\n\")\n",
    "matrix.insertValues() #take value(s) of matrix\n",
    "trans = Matrix() #object of Matrix\n",
    "trans = matrix.transpose() #it will calculate transpose of matrix and assign it to trans\n",
    "print (\"\\nOutput:\\ntranspose of matrix:\")\n",
    "trans.display() #it will show trans "
   ]
  },
  {
   "cell_type": "markdown",
   "metadata": {},
   "source": [
    "### 6. determinant(self):\n",
    "\tThis is public function to calculate determinant of square matrix. It will only calculate determinant if no. row(s) and column(s) of Matrix is equal otherwise it will raise error. It will return a value which is determinant of given M X M matrix.\n",
    "Example:"
   ]
  },
  {
   "cell_type": "code",
   "execution_count": 20,
   "metadata": {},
   "outputs": [
    {
     "name": "stdout",
     "output_type": "stream",
     "text": [
      "Input:\n",
      "\n",
      "Enter no. of row(s) of matrix: \n",
      "3\n",
      "Enter no. of coloumn(s) of matrix: \n",
      "3\n",
      "Enter value of matrix: \n",
      "\n",
      "\tEnter value of Row- 1  - (every column value must be separated by space e.g. 3 5 5): \n",
      "2 -1 7\n",
      "\tEnter value of Row- 2  - (every column value must be separated by space e.g. 3 5 5): \n",
      "3 7 0\n",
      "\tEnter value of Row- 3  - (every column value must be separated by space e.g. 3 5 5): \n",
      "-2 3 5\n",
      "\n",
      "Output:\n",
      "determinant of matrix:  246.0\n"
     ]
    }
   ],
   "source": [
    "from Mitra import Matrix\n",
    "\n",
    "matrix = Matrix() #object of Matrix\n",
    "print (\"Input:\\n\")\n",
    "matrix.insertValues() #take value(s) of matrix\n",
    "deter_min = matrix.determinant() #determinant of matrix will assigned to deter_min if matrix is square matrix otherwise it will raise error\n",
    "print (\"\\nOutput:\\ndeterminant of matrix: \", deter_min)"
   ]
  },
  {
   "cell_type": "markdown",
   "metadata": {},
   "source": [
    "### 7. minor(self):\n",
    "\tThis is public function to calculate minor matrix of square matrix. It will only calculate minor if no. of row(s) and column(s) of Matrix is equal otherwise it will raise error. It will make a Matrix object to store minor matrix of given M X M matrix and return the minor matrix.\n",
    "Example:"
   ]
  },
  {
   "cell_type": "code",
   "execution_count": 22,
   "metadata": {},
   "outputs": [
    {
     "name": "stdout",
     "output_type": "stream",
     "text": [
      "Input:\n",
      "\n",
      "Enter no. of row(s) of matrix: \n",
      "3\n",
      "Enter no. of coloumn(s) of matrix: \n",
      "3\n",
      "Enter value of matrix: \n",
      "\n",
      "\tEnter value of Row- 1  - (every column value must be separated by space e.g. 3 5 5): \n",
      "5 6 7 \n",
      "\tEnter value of Row- 2  - (every column value must be separated by space e.g. 3 5 5): \n",
      "3 7 45\n",
      "\tEnter value of Row- 3  - (every column value must be separated by space e.g. 3 5 5): \n",
      "2 67 8\n",
      "\n",
      "Output:\n",
      "minor of matrix: \n",
      "\n",
      "Matrix contents: \n",
      "\n",
      "\t-2959.00     -66.00     187.00     \n",
      "\t-421.00     26.00     323.00     \n",
      "\t221.00     204.00     17.00     \n"
     ]
    }
   ],
   "source": [
    "from Mitra import Matrix\n",
    "\n",
    "matrix = Matrix() #object of Matrix\n",
    "print (\"Input:\\n\")\n",
    "matrix.insertValues() #take value of matrix\n",
    "minorMatrix = Matrix() #objec of Matrix\n",
    "minorMatrix = matrix.minor() #it will assign minor matrix of matrix to minorMatrix if matrix is square matrix otherwise it will raise error\n",
    "print (\"\\nOutput:\\nminor of matrix: \")\n",
    "minorMatrix.display() #it will show minorMatrix after calculating minor matrix of matrix"
   ]
  },
  {
   "cell_type": "markdown",
   "metadata": {},
   "source": [
    "## 8. cofactor(self):\n",
    "\tThis is public function to calculate cofactor matrix of square matrix. It will only calculate cofactor if no. of row(s) and column(s) of Matrix is equal otherwise it will raise error. It will make a Matrix object to store cofactor of given M X M matrix and use minor() to calculate cofactor. It will return the cofactor matrix of M X M dimension.\n",
    "Example:"
   ]
  },
  {
   "cell_type": "code",
   "execution_count": 23,
   "metadata": {},
   "outputs": [
    {
     "name": "stdout",
     "output_type": "stream",
     "text": [
      "Input:\n",
      "\n",
      "Enter no. of row(s) of matrix: \n",
      "3\n",
      "Enter no. of coloumn(s) of matrix: \n",
      "3\n",
      "Enter value of matrix: \n",
      "\n",
      "\tEnter value of Row- 1  - (every column value must be separated by space e.g. 3 5 5): \n",
      "56 3 7 \n",
      "\tEnter value of Row- 2  - (every column value must be separated by space e.g. 3 5 5): \n",
      "43 76 98\n",
      "\tEnter value of Row- 3  - (every column value must be separated by space e.g. 3 5 5): \n",
      "324 65 98\n",
      "\n",
      "Output:\n",
      "cofactor of matrix:\n",
      "\n",
      "Matrix contents: \n",
      "\n",
      "\t1078.00     27538.00     -21829.00     \n",
      "\t161.00     3220.00     -2668.00     \n",
      "\t-238.00     -5187.00     4127.00     \n"
     ]
    }
   ],
   "source": [
    "from Mitra import Matrix\n",
    "\n",
    "matrix = Matrix() #object of Matrix\n",
    "print (\"Input:\\n\")\n",
    "matrix.insertValues() #take value(s) of matrix\n",
    "cofactorMatrix = Matrix() #object of Matrix\n",
    "cofactorMatrix = matrix.cofactor() #it will assign cofactor matrix of matrix to cofactorMatrix if matrix is square matrix otherwise it will raise error\n",
    "print (\"\\nOutput:\\ncofactor of matrix:\")\n",
    "cofactorMatrix.display() #it will show cofactorMatrix after calculating cofactor matrix of matrix"
   ]
  },
  {
   "cell_type": "markdown",
   "metadata": {},
   "source": [
    "### 9. adjoint(self):\n",
    "\tThis is public function to calculate adjoint matrix of square matrix. It will only calculate adjoint if no. of row(s) and column(s) of Matrix is equal otherwise it will raise error. It will return a matrix which is adjoint matrix of given M X M matrix, dimension of adjoint matrix same as dimension of given matrix. It used function traspose and cofactor to calculate adjoint.\n",
    "Example:"
   ]
  },
  {
   "cell_type": "code",
   "execution_count": 24,
   "metadata": {},
   "outputs": [
    {
     "name": "stdout",
     "output_type": "stream",
     "text": [
      "Input:\n",
      "\n",
      "Enter no. of row(s) of matrix: \n",
      "3\n",
      "Enter no. of coloumn(s) of matrix: \n",
      "3\n",
      "Enter value of matrix: \n",
      "\n",
      "\tEnter value of Row- 1  - (every column value must be separated by space e.g. 3 5 5): \n",
      "34 6 4 \n",
      "\tEnter value of Row- 2  - (every column value must be separated by space e.g. 3 5 5): \n",
      "4 7 4 \n",
      "\tEnter value of Row- 3  - (every column value must be separated by space e.g. 3 5 5): \n",
      "32 6 3\n",
      "Output:\n",
      "adjoint of matrix:\n",
      "\n",
      "Matrix contents: \n",
      "\n",
      "\t-3.00     6.00     -4.00     \n",
      "\t116.00     -26.00     -120.00     \n",
      "\t-200.00     -12.00     214.00     \n"
     ]
    }
   ],
   "source": [
    "from Mitra import Matrix\n",
    "\n",
    "matrix = Matrix() #object of Matrix\n",
    "print (\"Input:\\n\")\n",
    "matrix.insertValues() #take value(s) of matrix\n",
    "adjointMatrix = Matrix() #object of Matrix\n",
    "adjointMatrix = matrix.adjoint() #it will assign adjoint matrix of matrix to adjointMatrix if matrix is square matrix otherwise it will raise error\n",
    "print (\"Output:\\nadjoint of matrix:\")\n",
    "adjointMatrix.display() #it will show adjointMatrix after calculating adjoint matrix of matrix"
   ]
  },
  {
   "cell_type": "markdown",
   "metadata": {},
   "source": [
    "### 10. inverse(self):\n",
    "\tThis is public function to calculate inverse matrix of square matrix. It will only calculate inverse if no. of row(s) and column(s) of Matrix is equal otherwise it will raise error. It will return a matrix which is inverse of given M X M matrix. It will also raise error if Matrix is singular matrix as by mathematics rule - inverse of singular matrix doesn't exist.\n",
    "Example:"
   ]
  },
  {
   "cell_type": "code",
   "execution_count": 25,
   "metadata": {},
   "outputs": [
    {
     "name": "stdout",
     "output_type": "stream",
     "text": [
      "Input:\n",
      "\n",
      "Enter no. of row(s) of matrix: \n",
      "3\n",
      "Enter no. of coloumn(s) of matrix: \n",
      "3\n",
      "Enter value of matrix: \n",
      "\n",
      "\tEnter value of Row- 1  - (every column value must be separated by space e.g. 3 5 5): \n",
      "45 7 342\n",
      "\tEnter value of Row- 2  - (every column value must be separated by space e.g. 3 5 5): \n",
      "43 7 423\n",
      "\tEnter value of Row- 3  - (every column value must be separated by space e.g. 3 5 5): \n",
      "34 7 3\n",
      "\n",
      "Output:\n",
      "inverse of matrix:\n",
      "\n",
      "Matrix contents: \n",
      "\n",
      "\t45.00     7.00     342.00     \n",
      "\t43.00     7.00     423.00     \n",
      "\t34.00     7.00     3.00     \n"
     ]
    }
   ],
   "source": [
    "from Mitra import Matrix\n",
    "\n",
    "matrix = Matrix() #object of Matrix\n",
    "print (\"Input:\\n\")\n",
    "matrix.insertValues() #take value(s) of matrix\n",
    "inverseMatrix = Matrix() #object of Matrix\n",
    "inverseMatrix = matrix.inverse() #it will assign inverse matrix of matrix to inverseMatrix if matrix is square matrix and non-singular matrix otherwise it will raise error\n",
    "print (\"\\nOutput:\\ninverse of matrix:\")\n",
    "matrix.display() #it will show inverseMatrix after calculating inverse matrix of matrix"
   ]
  },
  {
   "cell_type": "markdown",
   "metadata": {},
   "source": [
    "### 11. trace(self):\n",
    "\tThis is public function to calculate trace of square matrix. It will onl calculate trace if no. or row(s) and column(s) of Matrix is equal otherwise it will raise error. It will return a value which summation of all diagonal value of square matrix called trace of square matrix.\n",
    "Example:"
   ]
  },
  {
   "cell_type": "code",
   "execution_count": 26,
   "metadata": {},
   "outputs": [
    {
     "name": "stdout",
     "output_type": "stream",
     "text": [
      "Input:\n",
      "\n",
      "Enter no. of row(s) of matrix: \n",
      "3\n",
      "Enter no. of coloumn(s) of matrix: \n",
      "3\n",
      "Enter value of matrix: \n",
      "\n",
      "\tEnter value of Row- 1  - (every column value must be separated by space e.g. 3 5 5): \n",
      "234 65 34\n",
      "\tEnter value of Row- 2  - (every column value must be separated by space e.g. 3 5 5): \n",
      "3 5 32\n",
      "\tEnter value of Row- 3  - (every column value must be separated by space e.g. 3 5 5): \n",
      "45 63 5\n",
      "\n",
      "Ouput:\n",
      "\n",
      "trace of matrix:  244.0\n"
     ]
    }
   ],
   "source": [
    "from Mitra import Matrix\n",
    "\n",
    "matrix = Matrix() #object of Matrix\n",
    "print (\"Input:\\n\")\n",
    "matrix.insertValues() #take value(s) of matrix\n",
    "trace = matrix.trace() #it will assign trace value of matrix to trace if matrix is square matrix otherwise it will raise error\n",
    "print (\"\\nOuput:\\n\\ntrace of matrix: \",trace) #it will print trace of matrix"
   ]
  },
  {
   "cell_type": "markdown",
   "metadata": {},
   "source": [
    "### 12. isEmpty(self):\n",
    "\tThis is public function to check whether the no. of row(s) or no.of column(s) of matrix zero or not. If no. of row(s) or no. of column(s) of matrix is zero it will return True otherwise it will return False. It will generally used to check if real matrix is initialized or not.\n",
    "Example:"
   ]
  },
  {
   "cell_type": "code",
   "execution_count": 27,
   "metadata": {},
   "outputs": [
    {
     "name": "stdout",
     "output_type": "stream",
     "text": [
      "Output:\n",
      "\n",
      "Empty Matrix\n"
     ]
    }
   ],
   "source": [
    "from Mitra import Matrix\n",
    "\n",
    "matrix = Matrix() #object of Matrix\n",
    "print (\"Output:\\n\")\n",
    "if matrix.isEmpty():\n",
    "    print ('Empty Matrix') #it will print 'Empty Matrix' as dimension of matrix is not set yet"
   ]
  },
  {
   "cell_type": "markdown",
   "metadata": {},
   "source": [
    "### 13. isZeroMatrix(self):\n",
    "\tThis is public function to check whether matrix is zero matrix or null matrix. If all the values of matrix is zero it will return True otherwise return False but if matrix is empty it will return False.\n",
    "Example:"
   ]
  },
  {
   "cell_type": "code",
   "execution_count": 28,
   "metadata": {},
   "outputs": [
    {
     "name": "stdout",
     "output_type": "stream",
     "text": [
      "Output:\n",
      "\n",
      "Zero matrix\n"
     ]
    }
   ],
   "source": [
    "matrix = Matrix() #object of Matrix\n",
    "matrix.setDimension(3,3) #it will make zero matrix of  3 X 3\n",
    "print (\"Output:\\n\")\n",
    "if matrix.isZeroMatrix():\n",
    "    print ('Zero matrix') #it will print 'zero matrix' as matrix is zero matrix"
   ]
  },
  {
   "cell_type": "markdown",
   "metadata": {},
   "source": [
    "### 14. isOrthogonalMatrix(self):\n",
    "\tThis is public function to check whether matrix is orthogonal matrix or not but matrix should be square matrix otherwise it will raise error. If matrix is orthogonal matrix it will return True else it will return False.\n",
    "Example:"
   ]
  },
  {
   "cell_type": "code",
   "execution_count": 29,
   "metadata": {},
   "outputs": [
    {
     "name": "stdout",
     "output_type": "stream",
     "text": [
      "Input:\n",
      "\n",
      "Enter no. of row(s) of matrix: \n",
      "3\n",
      "Enter no. of coloumn(s) of matrix: \n",
      "3\n",
      "Enter value of matrix: \n",
      "\n",
      "\tEnter value of Row- 1  - (every column value must be separated by space e.g. 3 5 5): \n",
      "3 56 3\n",
      "\tEnter value of Row- 2  - (every column value must be separated by space e.g. 3 5 5): \n",
      "4 76 43 \n",
      "\tEnter value of Row- 3  - (every column value must be separated by space e.g. 3 5 5): \n",
      "3 65 4\n",
      "\n",
      "Output:\n",
      "\n"
     ]
    }
   ],
   "source": [
    "from Mitra import Matrix\n",
    "\n",
    "matrix = Matrix() #object of Matrix\n",
    "print (\"Input:\\n\")\n",
    "matrix.insertValues() #take value(s) of matrix\n",
    "print (\"\\nOutput:\\n\")\n",
    "if matrix.isOrthogonalMatrix():\n",
    "    print ('orthogonal matrix') #it will print 'orthogonal matrix' if matrix is orthogonal"
   ]
  },
  {
   "cell_type": "markdown",
   "metadata": {},
   "source": [
    "### 15. isLTMatrix(self):\n",
    "\tThis is public function to check whether the matrix is lower triangular matrix or not but matrix should be square matrix otherwise it will raise error. If matrix is lower triangular matrix it will return True else it will return False.\n",
    "Example: "
   ]
  },
  {
   "cell_type": "code",
   "execution_count": 31,
   "metadata": {},
   "outputs": [
    {
     "name": "stdout",
     "output_type": "stream",
     "text": [
      "Input:\n",
      "\n",
      "Enter no. of row(s) of matrix: \n",
      "3\n",
      "Enter no. of coloumn(s) of matrix: \n",
      "3\n",
      "Enter value of matrix: \n",
      "\n",
      "\tEnter value of Row- 1  - (every column value must be separated by space e.g. 3 5 5): \n",
      "1 0 0\n",
      "\tEnter value of Row- 2  - (every column value must be separated by space e.g. 3 5 5): \n",
      "12 2 0\n",
      "\tEnter value of Row- 3  - (every column value must be separated by space e.g. 3 5 5): \n",
      "1 4 2\n",
      "\n",
      "Output:\n",
      "\n",
      "lower triangular matrix\n"
     ]
    }
   ],
   "source": [
    "from Mitra import Matrix\n",
    "\n",
    "matrix = Matrix() #object of Matrix\n",
    "print (\"Input:\\n\")\n",
    "matrix.insertValues() #take value(s) of matrix\n",
    "print (\"\\nOutput:\\n\")\n",
    "if matrix.isLTMatrix():\n",
    "    print ('lower triangular matrix') #it will print this if matrix is lower triangular and square matrix otherwise it will raise error"
   ]
  },
  {
   "cell_type": "markdown",
   "metadata": {},
   "source": [
    "### 16. isUTMatrix(self):\n",
    "\tThis is public functin to check whether the matrix is upper triangular matrix or not but matrix should be square matrix otherwise it will raise error. If matrix is upper triangular matrix it will return True else it will return False.\n",
    "Example:"
   ]
  },
  {
   "cell_type": "code",
   "execution_count": 33,
   "metadata": {},
   "outputs": [
    {
     "name": "stdout",
     "output_type": "stream",
     "text": [
      "Input:\n",
      "\n",
      "Enter no. of row(s) of matrix: \n",
      "3\n",
      "Enter no. of coloumn(s) of matrix: \n",
      "3\n",
      "Enter value of matrix: \n",
      "\n",
      "\tEnter value of Row- 1  - (every column value must be separated by space e.g. 3 5 5): \n",
      "1 2 3 \n",
      "\tEnter value of Row- 2  - (every column value must be separated by space e.g. 3 5 5): \n",
      "1 2 0\n",
      "\tEnter value of Row- 3  - (every column value must be separated by space e.g. 3 5 5): \n",
      "1 0 0\n",
      "\n",
      "Output\n",
      "\n"
     ]
    }
   ],
   "source": [
    "from Mitra import Matrix\n",
    "\n",
    "matrix = Matrix() #object of Matrix\n",
    "print (\"Input:\\n\")\n",
    "matrix.insertValues() #take value(s) of matrix\n",
    "print (\"\\nOutput\\n\")\n",
    "if matrix.isUTMatrix():\n",
    "    print ('upper triangular matrix') #it will print this if matrix is upper traingular and square matrix otherwise it will raise error"
   ]
  },
  {
   "cell_type": "markdown",
   "metadata": {},
   "source": [
    "## 17. isTMatrix(self):\n",
    "\tThis is public function to check whether the matix is triangular matrix or not but matrix should be square matrix otherwise it will raise error. If matrix is upper triangular or lower triangular or both then it will return True otherwise it will return False\n",
    "Example:"
   ]
  },
  {
   "cell_type": "code",
   "execution_count": 35,
   "metadata": {},
   "outputs": [
    {
     "name": "stdout",
     "output_type": "stream",
     "text": [
      "Input:\n",
      "\n",
      "Enter no. of row(s) of matrix: \n",
      "3\n",
      "Enter no. of coloumn(s) of matrix: \n",
      "3\n",
      "Enter value of matrix: \n",
      "\n",
      "\tEnter value of Row- 1  - (every column value must be separated by space e.g. 3 5 5): \n",
      "0 0 0 \n",
      "\tEnter value of Row- 2  - (every column value must be separated by space e.g. 3 5 5): \n",
      "0 0 0\n",
      "\tEnter value of Row- 3  - (every column value must be separated by space e.g. 3 5 5): \n",
      "0 0 0\n",
      "\n",
      "Output:\n",
      "\n"
     ]
    }
   ],
   "source": [
    "from Mitra import Matrix\n",
    "\n",
    "atrix = Matrix() #object of Matrix\n",
    "print (\"Input:\\n\")\n",
    "matrix.insertValues() #take value(s) of matrix\n",
    "print (\"\\nOutput:\\n\")\n",
    "if matrix.isTMatrix():\n",
    "    print ('triangular matrix') #it will print this if matrix is triangular and square matrix otherwise it will raise error"
   ]
  },
  {
   "cell_type": "markdown",
   "metadata": {},
   "source": [
    "### 18. isSquareMatrix(self):\n",
    "\tThis is public function to check whether the matrix is square matrix or not. If no. or row(s) and no. of column(s) of matrix is equal then it will return True otherwise it will return False.\n",
    "Example:"
   ]
  },
  {
   "cell_type": "code",
   "execution_count": 36,
   "metadata": {},
   "outputs": [
    {
     "name": "stdout",
     "output_type": "stream",
     "text": [
      "Output:\n",
      "\n",
      "Square Matrix\n"
     ]
    }
   ],
   "source": [
    "matrix = Matrix() #object of Matrix\n",
    "matrix.setDimension(3,3) #make zero matrix of 3 X 3\n",
    "print (\"Output:\\n\")\n",
    "if matrix.isSquareMatrix():\n",
    "    print ('Square Matrix') #it will print 'square matrix' as matrix is square matrix of dimension 3 X 3"
   ]
  },
  {
   "cell_type": "markdown",
   "metadata": {},
   "source": [
    "# Class SquareMatrix (represents square matrix of mathematics)"
   ]
  },
  {
   "cell_type": "markdown",
   "metadata": {},
   "source": [
    "This class is derived from Matrix class. It will give only functionality of square matrix. And if user want to restrict his/her program to make matrix other than square matrix then the SquareMatrix class can be used, it will always take care that matrix should be square matrix. One can also derive clss from SquareMatrix to give new functionality to SquareMatrix. All the protected and public members of Matrix class are inherited by SquareMatrix. It also override some functions of Matrix."
   ]
  },
  {
   "cell_type": "markdown",
   "metadata": {
    "collapsed": true
   },
   "source": [
    "# Overidden methods of SquareMatrix"
   ]
  },
  {
   "cell_type": "markdown",
   "metadata": {},
   "source": [
    "### 1. insertValues(self):\n",
    "\tThis is public function inherited from Matrix and re-implemented by SquareMatrix to give new functionality to SquareMatrix. It gives functionality same as insertValues() in Matrix but ask for dimension of matrix not for no. of row(s) and no. of column(s) as no. of row(s) and column(s) in square matrix is same.\n",
    "Example:"
   ]
  },
  {
   "cell_type": "code",
   "execution_count": 38,
   "metadata": {},
   "outputs": [
    {
     "name": "stdout",
     "output_type": "stream",
     "text": [
      "Input:\n",
      "\n",
      "Enter no. of row(s) of matrix: \n",
      "3\n",
      "Enter no. of coloumn(s) of matrix: \n",
      "3\n",
      "Enter value of matrix: \n",
      "\n",
      "\tEnter value of Row- 1  - (every column value must be separated by space e.g. 3 5 5): \n",
      "45 43 43 \n",
      "\tEnter value of Row- 2  - (every column value must be separated by space e.g. 3 5 5): \n",
      "34 7 3 \n",
      "\tEnter value of Row- 3  - (every column value must be separated by space e.g. 3 5 5): \n",
      "54 63 3\n",
      "\n",
      "Output:\n",
      "\n",
      "\n",
      "Matrix contents: \n",
      "\n",
      "\t45.00     43.00     43.00     \n",
      "\t34.00     7.00     3.00     \n",
      "\t54.00     63.00     3.00     \n"
     ]
    }
   ],
   "source": [
    "from Mitra import SquareMatrix\n",
    "\n",
    "matrix = Matrix() #object of SquareMatrix\n",
    "print (\"Input:\\n\")\n",
    "matrix.insertValues() #take value(s) of matrix\n",
    "print (\"\\nOutput:\\n\")\n",
    "matrix.display() #display matrix"
   ]
  },
  {
   "cell_type": "markdown",
   "metadata": {},
   "source": [
    "### 2. setDimension(self, dim):\n",
    "\tThis is public function inherited from Matrix and re-implemented by SquareMatrix and give the same functionality as setDimension() of Matrix besides it only take single argument to set dimension of SquareMatrix(). For more info see the setDimension() of Matrix.\n",
    "Example:"
   ]
  },
  {
   "cell_type": "code",
   "execution_count": 37,
   "metadata": {},
   "outputs": [
    {
     "name": "stdout",
     "output_type": "stream",
     "text": [
      "Output:\n",
      "\n",
      "\n",
      "Matrix contents: \n",
      "\n",
      "\t0.00     0.00     \n",
      "\t0.00     0.00     \n"
     ]
    }
   ],
   "source": [
    "from Mitra import SquareMatrix\n",
    "\n",
    "matrix = SquareMatrix() #object of SquareMatrix\n",
    "matrix.setDimension(2) #it will make zero square matrix of dimension 2 X 2\n",
    "print (\"Output:\\n\")\n",
    "matrix.display() #it will display square matrix"
   ]
  },
  {
   "cell_type": "markdown",
   "metadata": {},
   "source": [
    "# Solution of system of linear equation using matrix (Matrix or SquareMatrix)"
   ]
  },
  {
   "cell_type": "markdown",
   "metadata": {},
   "source": [
    "solveLE is a function to solve system of linear equation(s) of more than one variable. It will take three arguments where first is matrix (it may be object of Matrix or SquareMatrix but if it is a object of Matrix, it's no. of row(s) and column(s) must be equal).It is the matrix of coefficient of variables of linear equations. Second argument is list of variables, it must contain only string type values. Third argument is list of right hand side values of linear equations.Third argument must be of list type and only contains int or float values. It will return a dictionary of values and variables where key is variable name and value is value of that variable after solving the system of linear equations."
   ]
  },
  {
   "cell_type": "markdown",
   "metadata": {},
   "source": [
    "### To solve system of linear equations in three variables:\n",
    "    7x + 5y - 3z = 16\n",
    "    3x - 5y + 2z = -8\n",
    "    5x + 3y - 7y = 0\n",
    "now, solving this equation(s) using solveLE() function...\n",
    "##### make matrix of coefficient of variables:\n",
    "    7 5 -3\n",
    "    3 -5 2\n",
    "    5 3 -7\n",
    "##### make list of variables:\n",
    "    [x, y, z]\n",
    "##### make list of right hand side values:\n",
    "    [16, -8, 0]"
   ]
  },
  {
   "cell_type": "code",
   "execution_count": 40,
   "metadata": {},
   "outputs": [
    {
     "name": "stdout",
     "output_type": "stream",
     "text": [
      "Output:\n",
      "\n",
      "solution of linear equation(s):  {'x': 1.0, 'y': 3.0, 'z': 1.9999999999999996}\n",
      "x =  1.0\n",
      "y =  3.0\n",
      "z =  1.9999999999999996\n"
     ]
    }
   ],
   "source": [
    "from Mitra.leq import solveLE\n",
    "\n",
    "matrix = SquareMatrix() #object of matrix\n",
    "matrix.setDimension(3) #setting dimension of matrix to 3 X 3\n",
    "matrix[0] = [7, 5, -3] #setting first row of matrix\n",
    "matrix[1] = [3, -5, 2] #setting second row of matrix\n",
    "matrix[2] = [5, 3, -7] #setting third row of matrix\n",
    "vList = ['x', 'y', 'z'] #setting list of variables\n",
    "rList = [16, -8, 0] #setting list of right hand side values\n",
    "aDict = solveLE(matrix, vList, rList) #solving system of linear equation(s)\n",
    "print (\"Output:\\n\")\n",
    "print (\"solution of linear equation(s): \", aDict)\n",
    "print (\"x = \", aDict['x'])\n",
    "print (\"y = \", aDict['y'])\n",
    "print (\"z = \", aDict['z'])"
   ]
  },
  {
   "cell_type": "code",
   "execution_count": null,
   "metadata": {},
   "outputs": [],
   "source": []
  }
 ],
 "metadata": {
  "kernelspec": {
   "display_name": "Python 3",
   "language": "python",
   "name": "python3"
  },
  "language_info": {
   "codemirror_mode": {
    "name": "ipython",
    "version": 3
   },
   "file_extension": ".py",
   "mimetype": "text/x-python",
   "name": "python",
   "nbconvert_exporter": "python",
   "pygments_lexer": "ipython3",
   "version": "3.6.4"
  }
 },
 "nbformat": 4,
 "nbformat_minor": 2
}
